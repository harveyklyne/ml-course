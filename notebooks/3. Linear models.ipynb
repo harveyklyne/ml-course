{
 "cells": [
  {
   "cell_type": "markdown",
   "id": "e01977cd",
   "metadata": {},
   "source": [
    "# Linear models\n",
    "\n",
    "Linear models are the simplest form of models that we can build. In spite of their simplicity, in practice they often do surprisingly well and are widely used. Remember from lesson 1 that machine learning problems are divided into regression and classification. We will spend most of this lesson discussing linear models for regression, where it is easier to show mathematically how they work.\n",
    "\n",
    "Lesson outcomes:\n",
    "1. Linear models for regression.\n",
    "2. Ordinary least squares.\n",
    "3. Regularisation - ridge and lasso."
   ]
  },
  {
   "cell_type": "markdown",
   "id": "c2aea25a",
   "metadata": {},
   "source": [
    "### Linear models for regression\n",
    "\n",
    "Suppose that we have a single predictor $x$ for a reasonse $y$ which takes continuous values. The linear model for $y$ on $x$ says that $$y = a + bx + \\text{error},$$ for unknown \"intercept\" $a$, \"coefficient\" $b$, and some random error (usually assumed to be a normal distribution with mean zero and some standard deviation).\n",
    "\n",
    "Examples:\n",
    "1. How height is related to shoe size.\n",
    "2. How the amount of merchandise sold depends on the amount spent on advertising.\n",
    "3. How the amount of crops grown in a field depends on the amount of fertiliser used.\n",
    "\n",
    "Linear models are rarely \"right\" in the real world. The model is just a tool for helping us make predictions. Our goal is to estimate the unknown $a$ and $b$. "
   ]
  },
  {
   "cell_type": "code",
   "execution_count": 1,
   "id": "c1865ba5",
   "metadata": {},
   "outputs": [],
   "source": [
    "import numpy as np\n",
    "import matplotlib.pyplot as plt"
   ]
  },
  {
   "cell_type": "code",
   "execution_count": 2,
   "id": "65e45a5e",
   "metadata": {},
   "outputs": [
    {
     "data": {
      "image/png": "[encoded data removed]",
      "text/plain": [
       "<Figure size 432x288 with 1 Axes>"
      ]
     },
     "metadata": {
      "needs_background": "light"
     },
     "output_type": "display_data"
    }
   ],
   "source": [
    "a = 1\n",
    "b = 2\n",
    "\n",
    "x = np.random.normal(size = 1000)\n",
    "y = a + b*x + np.random.normal(scale = 0.5, size = len(x))\n",
    "\n",
    "plt.scatter(x, y)\n",
    "plt.title('Linear relationship')\n",
    "plt.xlabel('x')\n",
    "plt.ylabel('y')\n",
    "plt.show()"
   ]
  },
  {
   "cell_type": "markdown",
   "id": "845e4aca",
   "metadata": {},
   "source": [
    "# Ordinary least squares\n",
    "\n",
    "Ordinary least squares (OLS) is the number one most widely used algorithm for regression problems. It's the first thing you'll meet in any statistics or machine learning course at university. We begin by assuming that the linear relationship holds for each data point, so $$y_i = a + bx_i +\\text{error}_i$$ for every $i = 1,\\ldots, n$ (note that $a$ and $b$ do not depend on $i$). We will estimate $a$ and $b$ by minimising the sum of squares: $$(\\hat a, \\hat b) = \\text{argmin}_{a,b} \\sum_{i=1}^n (y_i - a - bx_i)^2.$$ We can solve this problem by finding the stationary points with respect to $a$ and $b$. For simplicity we may assume that $\\sum_{i=1}^n x_i = 0$ (this is true if we standardise the variable $x$)."
   ]
  },
  {
   "cell_type": "markdown",
   "id": "d0e4b1c0",
   "metadata": {},
   "source": [
    "**Exercise:** Check for yourself that the solution is\n",
    "$$ \\hat a = \\bar y; \\quad \\hat b = \\frac{\\sum_{i=1}^n x_i (y_i - \\bar y)}{\\sum_{i=1}^n x_i^2},$$\n",
    "where we have defined the sample mean $\\bar y := \\frac{1}{n} \\sum_{i = 1}^n y_i$."
   ]
  },
  {
   "cell_type": "code",
   "execution_count": 3,
   "id": "d8224d82",
   "metadata": {},
   "outputs": [
    {
     "name": "stdout",
     "output_type": "stream",
     "text": [
      "Truth: a = 1, b = 2\n",
      "Estimate: a = 1.003427542659721, b = 2.000416441795471\n"
     ]
    }
   ],
   "source": [
    "# Estimate unknown parameters\n",
    "print('Truth: a = ' + str(a) + ', b = ' + str(b))\n",
    "a_est = np.mean(y)\n",
    "b_est = sum(x * (y - a_est)) / sum(x * x)\n",
    "print('Estimate: a = ' + str(a_est) + ', b = ' + str(b_est))"
   ]
  },
  {
   "cell_type": "code",
   "execution_count": 4,
   "id": "622341c8",
   "metadata": {},
   "outputs": [
    {
     "data": {
      "image/png": "[encoded data removed]",
      "text/plain": [
       "<Figure size 432x288 with 1 Axes>"
      ]
     },
     "metadata": {
      "needs_background": "light"
     },
     "output_type": "display_data"
    }
   ],
   "source": [
    "# Make predictions\n",
    "pred = a_est + b_est * x\n",
    "\n",
    "plt.scatter(x, y)\n",
    "plt.plot(x, pred, '--', color='red')\n",
    "plt.title('Ordinary least squares')\n",
    "plt.xlabel('x')\n",
    "plt.ylabel('y')\n",
    "plt.show()"
   ]
  },
  {
   "cell_type": "markdown",
   "id": "b1fe0755",
   "metadata": {},
   "source": [
    "### Multivariate case\n",
    "\n",
    "Suppose that we now have multiple predictors $x_1$, $x_2$, \\ldots, $x_p$. The linear model (with intercept) becomes: $$ y_i = a + b_1 x_{i1} + b_2 x_{i2} + \\ldots + b_p x_{ip} + \\text{error}_i, \\text{ for } i = 1,\\ldots n.$$\n",
    "\n",
    "It is easier to write this using vectors and matrices:\n",
    "$$ Y = X \\beta + \\varepsilon,$$ where \n",
    "$$ Y = \\begin{bmatrix} y_1 \\\\ y_2 \\\\ \\vdots \\\\ y_n \\end{bmatrix}; \\quad X = \\begin{bmatrix} 1 & x_{11} & x_{12} & \\ldots & x_{1p}\\\\ 1 & x_{21} & x_{22} & \\ldots & x_{2p}\\\\ \\vdots & \\vdots & \\vdots & \\ddots & \\vdots \\\\ 1 & x_{n1} & x_{n2} & \\ldots & x_{np}\\\\   \\end{bmatrix}; \\quad \\beta = \\begin{bmatrix} a \\\\ b_1 \\\\ b_2 \\\\ \\vdots \\\\ b_p\\end{bmatrix}; \\quad \\varepsilon = \\begin{bmatrix} \\text{error}_1 \\\\ \\text{error}_2 \\\\ \\vdots \\\\ \\text{error}_n\\end{bmatrix}. $$\n",
    "\n",
    "Note that the first column of $X$ is all ones - this is a standard trick to account for the intercept term $a$ in the model. In machine learning we sometimes write $y$ instead of $Y$ --- don't worry about it.\n",
    "\n",
    "**Exercises:**\n",
    "1. Check for yourself that these two equations are identical.\n",
    "2. Check that the sum of squares criteria becomes $(Y - X\\beta)^T (Y - X\\beta)$, where $^T$ is the vector transpose operator. We usually write this as $\\| Y - X\\beta \\|^2$, where $\\|x\\| = \\sqrt{x^T x}$ is called the Euclidean norm.\n",
    "3. Show that the ordinary least squares solution is $$ \\hat \\beta = (X^T X)^{-1} X^T Y.$$ This is a very famous formula!"
   ]
  },
  {
   "cell_type": "markdown",
   "id": "916be873",
   "metadata": {},
   "source": [
    "### Recap\n",
    "\n",
    "The linear model is $$ Y = X \\beta + \\varepsilon,$$ and our goal is to estimate the unknown $\\beta$. The ordinary least squares approach minimises the residual sum of squares $$\\| Y - X\\beta\\|^2.$$ The solution is the OLS estimate $$ \\hat \\beta = (X^T X)^{-1} X^T Y.$$"
   ]
  },
  {
   "cell_type": "markdown",
   "id": "1636ec62",
   "metadata": {},
   "source": [
    "# Regularisation\n",
    "\n",
    "When there are lots of variables ($p$ is large compared to $n$), the ordinary least squares approach can produce an overly complicated solution and do poorly. In these cases we can use algorithms which seek simpler solutions. This is done by adding a penalty term (regularisation) to the loss function as follows:\n",
    "$$ \\hat \\beta = \\text{argmin}_\\beta \\; \\|Y - X\\beta\\|^2 + J(\\beta),$$\n",
    "where we pick the function $J$ so that it takes larger values for \"more complicated\" choices $\\beta$.\n",
    "\n",
    "The two most common choices are:\n",
    "1. \"Ridge\" penalty $J(\\beta) = \\lambda \\|\\beta\\|^2 = \\lambda \\sum_{j=1}^p \\beta_j^2$ for some choice of $\\lambda > 0$.\n",
    "2. \"Lasso\" penalty $J(\\beta) = \\lambda \\sum_{j=1}^p |\\beta_j|$ for some choice of $\\lambda > 0$.\n",
    "We will discuss ways to choose the regularisation parameter $\\lambda$ later in the course.\n",
    "\n",
    "Ridge regression is good when the variables in $X$ are correlated and is closely related to Principal Component Analysis (PCA), which is a common way of transforming a large set of variables $X$ into a smaller one that still contains most of the information in $X$. Lasso regression is good when only a few of the variables in $X$ are relevant, but we don't know which ones (\"sparsity\"). The lasso tends to lead to a solution where most of the coefficients $\\hat\\beta_j$ are zero.\n",
    "\n",
    "**Bonus:** One can combine the ridge and lasso penalties into the \"elastic net\" penalty $J(\\beta) = \\lambda_1 \\|\\beta\\|^2 + \\lambda_2 \\sum_{j=1}^p |\\beta_j|$.\n",
    "\n",
    "**Exercise:** Show that the ridge regression solution is $\\hat \\beta = (X^T X + \\lambda I)^{-1} X^T Y$, where $I$ is the identity matrix."
   ]
  },
  {
   "cell_type": "markdown",
   "id": "b64ab0fc",
   "metadata": {},
   "source": [
    "# House prices"
   ]
  },
  {
   "cell_type": "code",
   "execution_count": 17,
   "id": "a5161678",
   "metadata": {
    "scrolled": true
   },
   "outputs": [
    {
     "name": "stdout",
     "output_type": "stream",
     "text": [
      "Does X have any missing values? False\n"
     ]
    },
    {
     "data": {
      "text/html": [
       "<div>\n",
       "<style scoped>\n",
       "    .dataframe tbody tr th:only-of-type {\n",
       "        vertical-align: middle;\n",
       "    }\n",
       "\n",
       "    .dataframe tbody tr th {\n",
       "        vertical-align: top;\n",
       "    }\n",
       "\n",
       "    .dataframe thead th {\n",
       "        text-align: right;\n",
       "    }\n",
       "</style>\n",
       "<table border=\"1\" class=\"dataframe\">\n",
       "  <thead>\n",
       "    <tr style=\"text-align: right;\">\n",
       "      <th></th>\n",
       "      <th>LotArea</th>\n",
       "      <th>OverallQual</th>\n",
       "      <th>OverallCond</th>\n",
       "      <th>1stFlrSF</th>\n",
       "      <th>2ndFlrSF</th>\n",
       "      <th>FullBath</th>\n",
       "      <th>HalfBath</th>\n",
       "      <th>BedroomAbvGr</th>\n",
       "      <th>KitchenAbvGr</th>\n",
       "      <th>TotRmsAbvGrd</th>\n",
       "      <th>GarageArea</th>\n",
       "    </tr>\n",
       "  </thead>\n",
       "  <tbody>\n",
       "    <tr>\n",
       "      <th>LotArea</th>\n",
       "      <td>1.000000</td>\n",
       "      <td>0.105806</td>\n",
       "      <td>-0.005636</td>\n",
       "      <td>0.299475</td>\n",
       "      <td>0.050986</td>\n",
       "      <td>0.126031</td>\n",
       "      <td>0.014259</td>\n",
       "      <td>0.119690</td>\n",
       "      <td>-0.017784</td>\n",
       "      <td>0.190015</td>\n",
       "      <td>0.180403</td>\n",
       "    </tr>\n",
       "    <tr>\n",
       "      <th>OverallQual</th>\n",
       "      <td>0.105806</td>\n",
       "      <td>1.000000</td>\n",
       "      <td>-0.091932</td>\n",
       "      <td>0.476224</td>\n",
       "      <td>0.295493</td>\n",
       "      <td>0.550600</td>\n",
       "      <td>0.273458</td>\n",
       "      <td>0.101676</td>\n",
       "      <td>-0.183882</td>\n",
       "      <td>0.427452</td>\n",
       "      <td>0.562022</td>\n",
       "    </tr>\n",
       "    <tr>\n",
       "      <th>OverallCond</th>\n",
       "      <td>-0.005636</td>\n",
       "      <td>-0.091932</td>\n",
       "      <td>1.000000</td>\n",
       "      <td>-0.144203</td>\n",
       "      <td>0.028942</td>\n",
       "      <td>-0.194149</td>\n",
       "      <td>-0.060769</td>\n",
       "      <td>0.012980</td>\n",
       "      <td>-0.087001</td>\n",
       "      <td>-0.057583</td>\n",
       "      <td>-0.151521</td>\n",
       "    </tr>\n",
       "    <tr>\n",
       "      <th>1stFlrSF</th>\n",
       "      <td>0.299475</td>\n",
       "      <td>0.476224</td>\n",
       "      <td>-0.144203</td>\n",
       "      <td>1.000000</td>\n",
       "      <td>-0.202646</td>\n",
       "      <td>0.380637</td>\n",
       "      <td>-0.119916</td>\n",
       "      <td>0.127401</td>\n",
       "      <td>0.068101</td>\n",
       "      <td>0.409516</td>\n",
       "      <td>0.489782</td>\n",
       "    </tr>\n",
       "    <tr>\n",
       "      <th>2ndFlrSF</th>\n",
       "      <td>0.050986</td>\n",
       "      <td>0.295493</td>\n",
       "      <td>0.028942</td>\n",
       "      <td>-0.202646</td>\n",
       "      <td>1.000000</td>\n",
       "      <td>0.421378</td>\n",
       "      <td>0.609707</td>\n",
       "      <td>0.502901</td>\n",
       "      <td>0.059306</td>\n",
       "      <td>0.616423</td>\n",
       "      <td>0.138347</td>\n",
       "    </tr>\n",
       "    <tr>\n",
       "      <th>FullBath</th>\n",
       "      <td>0.126031</td>\n",
       "      <td>0.550600</td>\n",
       "      <td>-0.194149</td>\n",
       "      <td>0.380637</td>\n",
       "      <td>0.421378</td>\n",
       "      <td>1.000000</td>\n",
       "      <td>0.136381</td>\n",
       "      <td>0.363252</td>\n",
       "      <td>0.133115</td>\n",
       "      <td>0.554784</td>\n",
       "      <td>0.405656</td>\n",
       "    </tr>\n",
       "    <tr>\n",
       "      <th>HalfBath</th>\n",
       "      <td>0.014259</td>\n",
       "      <td>0.273458</td>\n",
       "      <td>-0.060769</td>\n",
       "      <td>-0.119916</td>\n",
       "      <td>0.609707</td>\n",
       "      <td>0.136381</td>\n",
       "      <td>1.000000</td>\n",
       "      <td>0.226651</td>\n",
       "      <td>-0.068263</td>\n",
       "      <td>0.343415</td>\n",
       "      <td>0.163549</td>\n",
       "    </tr>\n",
       "    <tr>\n",
       "      <th>BedroomAbvGr</th>\n",
       "      <td>0.119690</td>\n",
       "      <td>0.101676</td>\n",
       "      <td>0.012980</td>\n",
       "      <td>0.127401</td>\n",
       "      <td>0.502901</td>\n",
       "      <td>0.363252</td>\n",
       "      <td>0.226651</td>\n",
       "      <td>1.000000</td>\n",
       "      <td>0.198597</td>\n",
       "      <td>0.676620</td>\n",
       "      <td>0.065253</td>\n",
       "    </tr>\n",
       "    <tr>\n",
       "      <th>KitchenAbvGr</th>\n",
       "      <td>-0.017784</td>\n",
       "      <td>-0.183882</td>\n",
       "      <td>-0.087001</td>\n",
       "      <td>0.068101</td>\n",
       "      <td>0.059306</td>\n",
       "      <td>0.133115</td>\n",
       "      <td>-0.068263</td>\n",
       "      <td>0.198597</td>\n",
       "      <td>1.000000</td>\n",
       "      <td>0.256045</td>\n",
       "      <td>-0.064433</td>\n",
       "    </tr>\n",
       "    <tr>\n",
       "      <th>TotRmsAbvGrd</th>\n",
       "      <td>0.190015</td>\n",
       "      <td>0.427452</td>\n",
       "      <td>-0.057583</td>\n",
       "      <td>0.409516</td>\n",
       "      <td>0.616423</td>\n",
       "      <td>0.554784</td>\n",
       "      <td>0.343415</td>\n",
       "      <td>0.676620</td>\n",
       "      <td>0.256045</td>\n",
       "      <td>1.000000</td>\n",
       "      <td>0.337822</td>\n",
       "    </tr>\n",
       "    <tr>\n",
       "      <th>GarageArea</th>\n",
       "      <td>0.180403</td>\n",
       "      <td>0.562022</td>\n",
       "      <td>-0.151521</td>\n",
       "      <td>0.489782</td>\n",
       "      <td>0.138347</td>\n",
       "      <td>0.405656</td>\n",
       "      <td>0.163549</td>\n",
       "      <td>0.065253</td>\n",
       "      <td>-0.064433</td>\n",
       "      <td>0.337822</td>\n",
       "      <td>1.000000</td>\n",
       "    </tr>\n",
       "  </tbody>\n",
       "</table>\n",
       "</div>"
      ],
      "text/plain": [
       "               LotArea  OverallQual  OverallCond  1stFlrSF  2ndFlrSF  \\\n",
       "LotArea       1.000000     0.105806    -0.005636  0.299475  0.050986   \n",
       "OverallQual   0.105806     1.000000    -0.091932  0.476224  0.295493   \n",
       "OverallCond  -0.005636    -0.091932     1.000000 -0.144203  0.028942   \n",
       "1stFlrSF      0.299475     0.476224    -0.144203  1.000000 -0.202646   \n",
       "2ndFlrSF      0.050986     0.295493     0.028942 -0.202646  1.000000   \n",
       "FullBath      0.126031     0.550600    -0.194149  0.380637  0.421378   \n",
       "HalfBath      0.014259     0.273458    -0.060769 -0.119916  0.609707   \n",
       "BedroomAbvGr  0.119690     0.101676     0.012980  0.127401  0.502901   \n",
       "KitchenAbvGr -0.017784    -0.183882    -0.087001  0.068101  0.059306   \n",
       "TotRmsAbvGrd  0.190015     0.427452    -0.057583  0.409516  0.616423   \n",
       "GarageArea    0.180403     0.562022    -0.151521  0.489782  0.138347   \n",
       "\n",
       "              FullBath  HalfBath  BedroomAbvGr  KitchenAbvGr  TotRmsAbvGrd  \\\n",
       "LotArea       0.126031  0.014259      0.119690     -0.017784      0.190015   \n",
       "OverallQual   0.550600  0.273458      0.101676     -0.183882      0.427452   \n",
       "OverallCond  -0.194149 -0.060769      0.012980     -0.087001     -0.057583   \n",
       "1stFlrSF      0.380637 -0.119916      0.127401      0.068101      0.409516   \n",
       "2ndFlrSF      0.421378  0.609707      0.502901      0.059306      0.616423   \n",
       "FullBath      1.000000  0.136381      0.363252      0.133115      0.554784   \n",
       "HalfBath      0.136381  1.000000      0.226651     -0.068263      0.343415   \n",
       "BedroomAbvGr  0.363252  0.226651      1.000000      0.198597      0.676620   \n",
       "KitchenAbvGr  0.133115 -0.068263      0.198597      1.000000      0.256045   \n",
       "TotRmsAbvGrd  0.554784  0.343415      0.676620      0.256045      1.000000   \n",
       "GarageArea    0.405656  0.163549      0.065253     -0.064433      0.337822   \n",
       "\n",
       "              GarageArea  \n",
       "LotArea         0.180403  \n",
       "OverallQual     0.562022  \n",
       "OverallCond    -0.151521  \n",
       "1stFlrSF        0.489782  \n",
       "2ndFlrSF        0.138347  \n",
       "FullBath        0.405656  \n",
       "HalfBath        0.163549  \n",
       "BedroomAbvGr    0.065253  \n",
       "KitchenAbvGr   -0.064433  \n",
       "TotRmsAbvGrd    0.337822  \n",
       "GarageArea      1.000000  "
      ]
     },
     "execution_count": 17,
     "metadata": {},
     "output_type": "execute_result"
    }
   ],
   "source": [
    "import pandas as pd\n",
    "\n",
    "# Import data\n",
    "df = pd.read_csv('../data/house.csv') # df = pd.read_csv('house.csv')\n",
    "columns = ['LotArea', 'OverallQual', 'OverallCond', '1stFlrSF', '2ndFlrSF', 'FullBath', 'HalfBath', 'BedroomAbvGr', 'KitchenAbvGr', 'TotRmsAbvGrd', 'GarageArea']\n",
    "X = df[columns]\n",
    "print('Does X have any missing values? ' + str(X.isna().any().any()))\n",
    "X.corr() # correlations between the features"
   ]
  },
  {
   "cell_type": "code",
   "execution_count": 18,
   "id": "496bdc3f",
   "metadata": {},
   "outputs": [
    {
     "data": {
      "image/png": "[encoded data removed]",
      "text/plain": [
       "<Figure size 1440x360 with 1 Axes>"
      ]
     },
     "metadata": {
      "needs_background": "light"
     },
     "output_type": "display_data"
    }
   ],
   "source": [
    "import matplotlib.pyplot as plt\n",
    "\n",
    "plt.hist(df['SalePrice'])\n",
    "plt.xlabel('SalePrice')\n",
    "plt.ylabel('Count')\n",
    "plt.show()"
   ]
  },
  {
   "cell_type": "markdown",
   "id": "ef30d22c",
   "metadata": {},
   "source": [
    "The values of $y$ are very heavy tailed. This will have the effect that our \"score\" when we evaluate our models will almost entirely depend on how well we estimate the largest-valued responses. This isn't what we want (we care about all data points equally) so regression problems are usually formulated so that the distribution of $y$ looks somewhat normal, or at least so that the responses have roughly the same scale. In this case, it makes sense for us to try to predict the log-price of the houses."
   ]
  },
  {
   "cell_type": "code",
   "execution_count": 19,
   "id": "dbd7683c",
   "metadata": {},
   "outputs": [
    {
     "data": {
      "image/png": "[encoded data removed]",
      "text/plain": [
       "<Figure size 1440x360 with 1 Axes>"
      ]
     },
     "metadata": {
      "needs_background": "light"
     },
     "output_type": "display_data"
    }
   ],
   "source": [
    "y = np.log(df['SalePrice'])\n",
    "plt.hist(y)\n",
    "plt.xlabel('log SalePrice')\n",
    "plt.ylabel('Count')\n",
    "plt.show()"
   ]
  },
  {
   "cell_type": "code",
   "execution_count": 20,
   "id": "9ee86fcf",
   "metadata": {},
   "outputs": [],
   "source": [
    "from sklearn.model_selection import train_test_split\n",
    "from sklearn.preprocessing import StandardScaler # for standardising\n",
    "\n",
    "# Train-test split and standardise\n",
    "X_train, X_test, y_train, y_test = train_test_split(X, y, test_size=0.2, random_state=0)\n",
    "scaler = StandardScaler()\n",
    "scaler.fit(X_train) # use only information in training set for standardising\n",
    "X_train = pd.DataFrame(scaler.transform(X_train), columns = columns)\n",
    "X_test = pd.DataFrame(scaler.transform(X_test), columns = columns)"
   ]
  },
  {
   "cell_type": "markdown",
   "id": "1c1b7df0",
   "metadata": {},
   "source": [
    "### Ordinary least squares"
   ]
  },
  {
   "cell_type": "code",
   "execution_count": 21,
   "id": "fafe11b5",
   "metadata": {},
   "outputs": [
    {
     "name": "stdout",
     "output_type": "stream",
     "text": [
      "Error = 0.042813791633739565\n"
     ]
    },
    {
     "data": {
      "image/png": "[encoded data removed]",
      "text/plain": [
       "<Figure size 1440x360 with 1 Axes>"
      ]
     },
     "metadata": {
      "needs_background": "light"
     },
     "output_type": "display_data"
    }
   ],
   "source": [
    "from sklearn.linear_model import LinearRegression\n",
    "from sklearn.metrics import mean_squared_error # for evaluating model performance\n",
    "\n",
    "ols = LinearRegression()\n",
    "ols.fit(X_train, y_train)\n",
    "print('Error = ' + str(mean_squared_error(y_test, ols.predict(X_test))))\n",
    "plt.rcParams['figure.figsize'] = [20, 5] # make plots bigger\n",
    "plt.bar(X_train.columns, ols.coef_)\n",
    "plt.title('Coefficients')\n",
    "plt.show()"
   ]
  },
  {
   "cell_type": "markdown",
   "id": "c13c0a91",
   "metadata": {},
   "source": [
    "### Ridge regression"
   ]
  },
  {
   "cell_type": "code",
   "execution_count": 22,
   "id": "17d345e1",
   "metadata": {},
   "outputs": [
    {
     "name": "stdout",
     "output_type": "stream",
     "text": [
      "Error = 0.04278393502514294\n"
     ]
    },
    {
     "data": {
      "image/png": "[encoded data removed]",
      "text/plain": [
       "<Figure size 1440x360 with 1 Axes>"
      ]
     },
     "metadata": {
      "needs_background": "light"
     },
     "output_type": "display_data"
    }
   ],
   "source": [
    "from sklearn.linear_model import Ridge\n",
    "\n",
    "ridge = Ridge(alpha = 1) # the penalty parameter is called \"alpha\" in sklearn.\n",
    "ridge.fit(X_train, y_train)\n",
    "print('Error = ' + str(mean_squared_error(y_test, ridge.predict(X_test))))\n",
    "plt.bar(X_train.columns, ridge.coef_)\n",
    "plt.title('Coefficients')\n",
    "plt.show()"
   ]
  },
  {
   "cell_type": "markdown",
   "id": "4e288319",
   "metadata": {},
   "source": [
    "### Lasso regression"
   ]
  },
  {
   "cell_type": "code",
   "execution_count": 29,
   "id": "673b4e4d",
   "metadata": {
    "scrolled": true
   },
   "outputs": [
    {
     "name": "stdout",
     "output_type": "stream",
     "text": [
      "Error = 0.046093741327613486\n"
     ]
    },
    {
     "data": {
      "image/png": "[encoded data removed]",
      "text/plain": [
       "<Figure size 1440x360 with 1 Axes>"
      ]
     },
     "metadata": {
      "needs_background": "light"
     },
     "output_type": "display_data"
    }
   ],
   "source": [
    "from sklearn.linear_model import Lasso\n",
    "\n",
    "lasso = Lasso(alpha = 0.1)\n",
    "lasso.fit(X_train, y_train)\n",
    "print('Error = ' + str(mean_squared_error(y_test, lasso.predict(X_test))))\n",
    "plt.bar(X_train.columns, lasso.coef_)\n",
    "plt.title('Coefficients')\n",
    "plt.show()"
   ]
  },
  {
   "cell_type": "markdown",
   "id": "1a775758",
   "metadata": {},
   "source": [
    "**Exercise:**\n",
    "1. Change the value of the penalty term \"alpha\" in the ridge and lasso models. Can you improve the test scores?\n",
    "2. Choose any 5 of the predictors and re-run this workbook. You can do this by modifying the line:\n",
    "```columns = ['LotArea', 'OverallQual', 'OverallCond', '1stFlrSF', '2ndFlrSF', 'FullBath', 'HalfBath', 'BedroomAbvGr', 'KitchenAbvGr', 'TotRmsAbvGrd', 'GarageArea']``` to --- for example --- ```columns = ['LotArea', 'OverallQual', 'OverallCond', '1stFlrSF', '2ndFlrSF']```.\n",
    "3. (**Bonus**) What are the best 5 predictors you can find? You might find it helpful to look at the features with non-zero coefficients in the Lasso model."
   ]
  },
  {
   "cell_type": "markdown",
   "id": "f7e3da52",
   "metadata": {},
   "source": [
    "# Bonus: linear models for classification"
   ]
  },
  {
   "cell_type": "markdown",
   "id": "10efb287",
   "metadata": {},
   "source": [
    "In this lesson we have discussed doing regression using a linear model. We can do something similar for classification, and the approach is called \"logistic regression\" (although \"logistic classification\" would make more sense). Consider the classification setting where we have a sincle predictor $x$ and the response $y$ equals 0 or 1 (\"binary classification\"). In this case the logistic regression model is:\n",
    "$$ \\log\\bigg(\\frac{\\Pr(y = 1)}{\\Pr(y=0)}\\bigg) = a + bx.$$\n",
    "\n",
    "We can fit the coefficients $a$ and $b$ by performing a similar minimisation procedure to OLS, but will a different loss function.\n",
    "\n",
    "\n",
    "Logistic regression classifiers can be generalised to handle multiple variables $X$ and also to predict multiple label classes (so $y$ can take on a few values, not just zero and one). We will apply logistic regression to one of the most famous machine learning data sets of all time - the iris flower data used by Ronald Fisher in 1936."
   ]
  },
  {
   "cell_type": "code",
   "execution_count": 12,
   "id": "6afe4a13",
   "metadata": {},
   "outputs": [
    {
     "data": {
      "text/html": [
       "<div>\n",
       "<style scoped>\n",
       "    .dataframe tbody tr th:only-of-type {\n",
       "        vertical-align: middle;\n",
       "    }\n",
       "\n",
       "    .dataframe tbody tr th {\n",
       "        vertical-align: top;\n",
       "    }\n",
       "\n",
       "    .dataframe thead th {\n",
       "        text-align: right;\n",
       "    }\n",
       "</style>\n",
       "<table border=\"1\" class=\"dataframe\">\n",
       "  <thead>\n",
       "    <tr style=\"text-align: right;\">\n",
       "      <th></th>\n",
       "      <th>sepal_length</th>\n",
       "      <th>sepal_width</th>\n",
       "      <th>petal_length</th>\n",
       "      <th>petal_width</th>\n",
       "      <th>class</th>\n",
       "    </tr>\n",
       "  </thead>\n",
       "  <tbody>\n",
       "    <tr>\n",
       "      <th>0</th>\n",
       "      <td>5.1</td>\n",
       "      <td>3.5</td>\n",
       "      <td>1.4</td>\n",
       "      <td>0.2</td>\n",
       "      <td>Iris-setosa</td>\n",
       "    </tr>\n",
       "    <tr>\n",
       "      <th>1</th>\n",
       "      <td>4.9</td>\n",
       "      <td>3.0</td>\n",
       "      <td>1.4</td>\n",
       "      <td>0.2</td>\n",
       "      <td>Iris-setosa</td>\n",
       "    </tr>\n",
       "    <tr>\n",
       "      <th>2</th>\n",
       "      <td>4.7</td>\n",
       "      <td>3.2</td>\n",
       "      <td>1.3</td>\n",
       "      <td>0.2</td>\n",
       "      <td>Iris-setosa</td>\n",
       "    </tr>\n",
       "    <tr>\n",
       "      <th>3</th>\n",
       "      <td>4.6</td>\n",
       "      <td>3.1</td>\n",
       "      <td>1.5</td>\n",
       "      <td>0.2</td>\n",
       "      <td>Iris-setosa</td>\n",
       "    </tr>\n",
       "    <tr>\n",
       "      <th>4</th>\n",
       "      <td>5.0</td>\n",
       "      <td>3.6</td>\n",
       "      <td>1.4</td>\n",
       "      <td>0.2</td>\n",
       "      <td>Iris-setosa</td>\n",
       "    </tr>\n",
       "    <tr>\n",
       "      <th>...</th>\n",
       "      <td>...</td>\n",
       "      <td>...</td>\n",
       "      <td>...</td>\n",
       "      <td>...</td>\n",
       "      <td>...</td>\n",
       "    </tr>\n",
       "    <tr>\n",
       "      <th>145</th>\n",
       "      <td>6.7</td>\n",
       "      <td>3.0</td>\n",
       "      <td>5.2</td>\n",
       "      <td>2.3</td>\n",
       "      <td>Iris-virginica</td>\n",
       "    </tr>\n",
       "    <tr>\n",
       "      <th>146</th>\n",
       "      <td>6.3</td>\n",
       "      <td>2.5</td>\n",
       "      <td>5.0</td>\n",
       "      <td>1.9</td>\n",
       "      <td>Iris-virginica</td>\n",
       "    </tr>\n",
       "    <tr>\n",
       "      <th>147</th>\n",
       "      <td>6.5</td>\n",
       "      <td>3.0</td>\n",
       "      <td>5.2</td>\n",
       "      <td>2.0</td>\n",
       "      <td>Iris-virginica</td>\n",
       "    </tr>\n",
       "    <tr>\n",
       "      <th>148</th>\n",
       "      <td>6.2</td>\n",
       "      <td>3.4</td>\n",
       "      <td>5.4</td>\n",
       "      <td>2.3</td>\n",
       "      <td>Iris-virginica</td>\n",
       "    </tr>\n",
       "    <tr>\n",
       "      <th>149</th>\n",
       "      <td>5.9</td>\n",
       "      <td>3.0</td>\n",
       "      <td>5.1</td>\n",
       "      <td>1.8</td>\n",
       "      <td>Iris-virginica</td>\n",
       "    </tr>\n",
       "  </tbody>\n",
       "</table>\n",
       "<p>150 rows × 5 columns</p>\n",
       "</div>"
      ],
      "text/plain": [
       "     sepal_length  sepal_width  petal_length  petal_width           class\n",
       "0             5.1          3.5           1.4          0.2     Iris-setosa\n",
       "1             4.9          3.0           1.4          0.2     Iris-setosa\n",
       "2             4.7          3.2           1.3          0.2     Iris-setosa\n",
       "3             4.6          3.1           1.5          0.2     Iris-setosa\n",
       "4             5.0          3.6           1.4          0.2     Iris-setosa\n",
       "..            ...          ...           ...          ...             ...\n",
       "145           6.7          3.0           5.2          2.3  Iris-virginica\n",
       "146           6.3          2.5           5.0          1.9  Iris-virginica\n",
       "147           6.5          3.0           5.2          2.0  Iris-virginica\n",
       "148           6.2          3.4           5.4          2.3  Iris-virginica\n",
       "149           5.9          3.0           5.1          1.8  Iris-virginica\n",
       "\n",
       "[150 rows x 5 columns]"
      ]
     },
     "execution_count": 12,
     "metadata": {},
     "output_type": "execute_result"
    }
   ],
   "source": [
    "# Load data\n",
    "import pandas as pd\n",
    "\n",
    "columns = ['sepal_length', 'sepal_width', 'petal_length', 'petal_width', 'class']\n",
    "df = pd.read_csv('../data/iris.data', header=None, names=columns) # df = pd.read_csv('iris.data', header=None, names=columns)\n",
    "df"
   ]
  },
  {
   "cell_type": "markdown",
   "id": "c5c7ed15",
   "metadata": {},
   "source": [
    "Our goal is to predict the species of a flower (\"class\") out of three options, by using four measurements of different parts of the flower."
   ]
  },
  {
   "cell_type": "code",
   "execution_count": 13,
   "id": "bf7ec794",
   "metadata": {},
   "outputs": [
    {
     "name": "stdout",
     "output_type": "stream",
     "text": [
      "0    50\n",
      "1    50\n",
      "2    50\n",
      "Name: count, dtype: int64\n"
     ]
    },
    {
     "data": {
      "text/html": [
       "<div>\n",
       "<style scoped>\n",
       "    .dataframe tbody tr th:only-of-type {\n",
       "        vertical-align: middle;\n",
       "    }\n",
       "\n",
       "    .dataframe tbody tr th {\n",
       "        vertical-align: top;\n",
       "    }\n",
       "\n",
       "    .dataframe thead th {\n",
       "        text-align: right;\n",
       "    }\n",
       "</style>\n",
       "<table border=\"1\" class=\"dataframe\">\n",
       "  <thead>\n",
       "    <tr style=\"text-align: right;\">\n",
       "      <th></th>\n",
       "      <th>sepal_length</th>\n",
       "      <th>sepal_width</th>\n",
       "      <th>petal_length</th>\n",
       "      <th>petal_width</th>\n",
       "    </tr>\n",
       "  </thead>\n",
       "  <tbody>\n",
       "    <tr>\n",
       "      <th>0</th>\n",
       "      <td>5.1</td>\n",
       "      <td>3.5</td>\n",
       "      <td>1.4</td>\n",
       "      <td>0.2</td>\n",
       "    </tr>\n",
       "    <tr>\n",
       "      <th>1</th>\n",
       "      <td>4.9</td>\n",
       "      <td>3.0</td>\n",
       "      <td>1.4</td>\n",
       "      <td>0.2</td>\n",
       "    </tr>\n",
       "    <tr>\n",
       "      <th>2</th>\n",
       "      <td>4.7</td>\n",
       "      <td>3.2</td>\n",
       "      <td>1.3</td>\n",
       "      <td>0.2</td>\n",
       "    </tr>\n",
       "    <tr>\n",
       "      <th>3</th>\n",
       "      <td>4.6</td>\n",
       "      <td>3.1</td>\n",
       "      <td>1.5</td>\n",
       "      <td>0.2</td>\n",
       "    </tr>\n",
       "    <tr>\n",
       "      <th>4</th>\n",
       "      <td>5.0</td>\n",
       "      <td>3.6</td>\n",
       "      <td>1.4</td>\n",
       "      <td>0.2</td>\n",
       "    </tr>\n",
       "    <tr>\n",
       "      <th>...</th>\n",
       "      <td>...</td>\n",
       "      <td>...</td>\n",
       "      <td>...</td>\n",
       "      <td>...</td>\n",
       "    </tr>\n",
       "    <tr>\n",
       "      <th>145</th>\n",
       "      <td>6.7</td>\n",
       "      <td>3.0</td>\n",
       "      <td>5.2</td>\n",
       "      <td>2.3</td>\n",
       "    </tr>\n",
       "    <tr>\n",
       "      <th>146</th>\n",
       "      <td>6.3</td>\n",
       "      <td>2.5</td>\n",
       "      <td>5.0</td>\n",
       "      <td>1.9</td>\n",
       "    </tr>\n",
       "    <tr>\n",
       "      <th>147</th>\n",
       "      <td>6.5</td>\n",
       "      <td>3.0</td>\n",
       "      <td>5.2</td>\n",
       "      <td>2.0</td>\n",
       "    </tr>\n",
       "    <tr>\n",
       "      <th>148</th>\n",
       "      <td>6.2</td>\n",
       "      <td>3.4</td>\n",
       "      <td>5.4</td>\n",
       "      <td>2.3</td>\n",
       "    </tr>\n",
       "    <tr>\n",
       "      <th>149</th>\n",
       "      <td>5.9</td>\n",
       "      <td>3.0</td>\n",
       "      <td>5.1</td>\n",
       "      <td>1.8</td>\n",
       "    </tr>\n",
       "  </tbody>\n",
       "</table>\n",
       "<p>150 rows × 4 columns</p>\n",
       "</div>"
      ],
      "text/plain": [
       "     sepal_length  sepal_width  petal_length  petal_width\n",
       "0             5.1          3.5           1.4          0.2\n",
       "1             4.9          3.0           1.4          0.2\n",
       "2             4.7          3.2           1.3          0.2\n",
       "3             4.6          3.1           1.5          0.2\n",
       "4             5.0          3.6           1.4          0.2\n",
       "..            ...          ...           ...          ...\n",
       "145           6.7          3.0           5.2          2.3\n",
       "146           6.3          2.5           5.0          1.9\n",
       "147           6.5          3.0           5.2          2.0\n",
       "148           6.2          3.4           5.4          2.3\n",
       "149           5.9          3.0           5.1          1.8\n",
       "\n",
       "[150 rows x 4 columns]"
      ]
     },
     "execution_count": 13,
     "metadata": {},
     "output_type": "execute_result"
    }
   ],
   "source": [
    "from sklearn.preprocessing import LabelEncoder # converting the species names into responses for machine learning\n",
    "\n",
    "le = LabelEncoder()\n",
    "le.fit(df['class'])\n",
    "y = pd.Series(le.transform(df['class']))\n",
    "X = df.drop(columns = ['class'])\n",
    "print(y.value_counts())\n",
    "X"
   ]
  },
  {
   "cell_type": "code",
   "execution_count": 14,
   "id": "88485d8f",
   "metadata": {},
   "outputs": [],
   "source": [
    "from sklearn.model_selection import train_test_split\n",
    "from sklearn.preprocessing import StandardScaler # for standardising\n",
    "\n",
    "# Train-test split and standardise\n",
    "X_train, X_test, y_train, y_test = train_test_split(X, y, test_size=0.33, random_state=0, stratify = y)\n",
    "# the \"stratify\" option means we get equal proportions of the different flower species in the training and test sets\n",
    "scaler = StandardScaler()\n",
    "scaler.fit(X_train) # use only information in training set for standardising\n",
    "X_train = pd.DataFrame(scaler.transform(X_train), columns = X.columns)\n",
    "X_test = pd.DataFrame(scaler.transform(X_test), columns = X.columns)"
   ]
  },
  {
   "cell_type": "code",
   "execution_count": 15,
   "id": "6a6bfa9d",
   "metadata": {},
   "outputs": [
    {
     "name": "stdout",
     "output_type": "stream",
     "text": [
      "Accuracy = 0.98\n"
     ]
    }
   ],
   "source": [
    "from sklearn.linear_model import LogisticRegression\n",
    "from sklearn.metrics import accuracy_score # for evaluating model performance\n",
    "\n",
    "log = LogisticRegression(penalty = None) # LogisticRegression uses a ridge penalty by default.\n",
    "log.fit(X_train, y_train)\n",
    "print('Accuracy = ' + str(accuracy_score(y_test, log.predict(X_test))))"
   ]
  },
  {
   "cell_type": "markdown",
   "id": "39e080e5",
   "metadata": {},
   "source": [
    "98% accuracy! This is very easy data to predict."
   ]
  }
 ],
 "metadata": {
  "kernelspec": {
   "display_name": "Python 3 (ipykernel)",
   "language": "python",
   "name": "python3"
  },
  "language_info": {
   "codemirror_mode": {
    "name": "ipython",
    "version": 3
   },
   "file_extension": ".py",
   "mimetype": "text/x-python",
   "name": "python",
   "nbconvert_exporter": "python",
   "pygments_lexer": "ipython3",
   "version": "3.9.6"
  }
 },
 "nbformat": 4,
 "nbformat_minor": 5
}
