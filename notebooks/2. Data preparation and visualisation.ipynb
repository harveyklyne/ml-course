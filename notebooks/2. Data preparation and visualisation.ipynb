{
 "cells": [
  {
   "cell_type": "markdown",
   "id": "af755607",
   "metadata": {},
   "source": [
    "# The whole game\n",
    "\n",
    "1. Load the data.\n",
    "2. Clean the data.\n",
    "3. Split the data for training and testing.\n",
    "4. Build a model.\n",
    "5. Train the model.\n",
    "6. Test the model.\n",
    "7. Improve the model, repeating steps 4-6."
   ]
  },
  {
   "cell_type": "markdown",
   "id": "c6a39e92",
   "metadata": {},
   "source": [
    "In this lesson we will focus on during raw data into useful features to feed into the model. In many cases this is the most important part of the whole process. Good data usually produces good results with just a simple model, bad data usually produces bad results with all models.\n",
    "\n",
    "We will focus on two topics:\n",
    "1. Dealing with missing values.\n",
    "2. Standardising variables."
   ]
  },
  {
   "cell_type": "markdown",
   "id": "f80eb982",
   "metadata": {},
   "source": [
    "# Cardiovascular disease\n",
    "\n",
    "\"Cardiovascular disease (CVD) is a general term for conditions affecting the heart or blood vessels. It's usually associated with a build-up of fatty deposits inside the arteries (atherosclerosis) and an increased risk of blood clots. It can also be associated with damage to arteries in organs such as the brain, heart, kidneys and eyes. CVD is one of the main causes of death and disability in the UK, but it can often largely be prevented by leading a healthy lifestyle.\" - NHS"
   ]
  },
  {
   "cell_type": "code",
   "execution_count": 2,
   "id": "d45e4265",
   "metadata": {
    "scrolled": true
   },
   "outputs": [
    {
     "data": {
      "text/html": [
       "<div>\n",
       "<style scoped>\n",
       "    .dataframe tbody tr th:only-of-type {\n",
       "        vertical-align: middle;\n",
       "    }\n",
       "\n",
       "    .dataframe tbody tr th {\n",
       "        vertical-align: top;\n",
       "    }\n",
       "\n",
       "    .dataframe thead th {\n",
       "        text-align: right;\n",
       "    }\n",
       "</style>\n",
       "<table border=\"1\" class=\"dataframe\">\n",
       "  <thead>\n",
       "    <tr style=\"text-align: right;\">\n",
       "      <th></th>\n",
       "      <th>age</th>\n",
       "      <th>sex</th>\n",
       "      <th>cp</th>\n",
       "      <th>trestbps</th>\n",
       "      <th>chol</th>\n",
       "      <th>fbs</th>\n",
       "      <th>restecg</th>\n",
       "      <th>thalach</th>\n",
       "      <th>exang</th>\n",
       "      <th>oldpeak</th>\n",
       "      <th>slope</th>\n",
       "      <th>ca</th>\n",
       "      <th>thal</th>\n",
       "      <th>disease</th>\n",
       "    </tr>\n",
       "  </thead>\n",
       "  <tbody>\n",
       "    <tr>\n",
       "      <th>0</th>\n",
       "      <td>63.0</td>\n",
       "      <td>1.0</td>\n",
       "      <td>1.0</td>\n",
       "      <td>145.0</td>\n",
       "      <td>233.0</td>\n",
       "      <td>1.0</td>\n",
       "      <td>2.0</td>\n",
       "      <td>150.0</td>\n",
       "      <td>0.0</td>\n",
       "      <td>2.3</td>\n",
       "      <td>3.0</td>\n",
       "      <td>0.0</td>\n",
       "      <td>6.0</td>\n",
       "      <td>0</td>\n",
       "    </tr>\n",
       "    <tr>\n",
       "      <th>1</th>\n",
       "      <td>67.0</td>\n",
       "      <td>1.0</td>\n",
       "      <td>4.0</td>\n",
       "      <td>160.0</td>\n",
       "      <td>286.0</td>\n",
       "      <td>0.0</td>\n",
       "      <td>2.0</td>\n",
       "      <td>108.0</td>\n",
       "      <td>1.0</td>\n",
       "      <td>1.5</td>\n",
       "      <td>2.0</td>\n",
       "      <td>3.0</td>\n",
       "      <td>3.0</td>\n",
       "      <td>1</td>\n",
       "    </tr>\n",
       "    <tr>\n",
       "      <th>2</th>\n",
       "      <td>67.0</td>\n",
       "      <td>1.0</td>\n",
       "      <td>4.0</td>\n",
       "      <td>120.0</td>\n",
       "      <td>229.0</td>\n",
       "      <td>0.0</td>\n",
       "      <td>2.0</td>\n",
       "      <td>129.0</td>\n",
       "      <td>1.0</td>\n",
       "      <td>2.6</td>\n",
       "      <td>2.0</td>\n",
       "      <td>2.0</td>\n",
       "      <td>7.0</td>\n",
       "      <td>1</td>\n",
       "    </tr>\n",
       "    <tr>\n",
       "      <th>3</th>\n",
       "      <td>37.0</td>\n",
       "      <td>1.0</td>\n",
       "      <td>3.0</td>\n",
       "      <td>130.0</td>\n",
       "      <td>250.0</td>\n",
       "      <td>0.0</td>\n",
       "      <td>0.0</td>\n",
       "      <td>187.0</td>\n",
       "      <td>0.0</td>\n",
       "      <td>3.5</td>\n",
       "      <td>3.0</td>\n",
       "      <td>0.0</td>\n",
       "      <td>3.0</td>\n",
       "      <td>0</td>\n",
       "    </tr>\n",
       "    <tr>\n",
       "      <th>4</th>\n",
       "      <td>41.0</td>\n",
       "      <td>0.0</td>\n",
       "      <td>2.0</td>\n",
       "      <td>130.0</td>\n",
       "      <td>204.0</td>\n",
       "      <td>0.0</td>\n",
       "      <td>2.0</td>\n",
       "      <td>172.0</td>\n",
       "      <td>0.0</td>\n",
       "      <td>1.4</td>\n",
       "      <td>1.0</td>\n",
       "      <td>0.0</td>\n",
       "      <td>3.0</td>\n",
       "      <td>0</td>\n",
       "    </tr>\n",
       "    <tr>\n",
       "      <th>...</th>\n",
       "      <td>...</td>\n",
       "      <td>...</td>\n",
       "      <td>...</td>\n",
       "      <td>...</td>\n",
       "      <td>...</td>\n",
       "      <td>...</td>\n",
       "      <td>...</td>\n",
       "      <td>...</td>\n",
       "      <td>...</td>\n",
       "      <td>...</td>\n",
       "      <td>...</td>\n",
       "      <td>...</td>\n",
       "      <td>...</td>\n",
       "      <td>...</td>\n",
       "    </tr>\n",
       "    <tr>\n",
       "      <th>298</th>\n",
       "      <td>45.0</td>\n",
       "      <td>1.0</td>\n",
       "      <td>1.0</td>\n",
       "      <td>110.0</td>\n",
       "      <td>264.0</td>\n",
       "      <td>0.0</td>\n",
       "      <td>0.0</td>\n",
       "      <td>132.0</td>\n",
       "      <td>0.0</td>\n",
       "      <td>1.2</td>\n",
       "      <td>2.0</td>\n",
       "      <td>0.0</td>\n",
       "      <td>7.0</td>\n",
       "      <td>1</td>\n",
       "    </tr>\n",
       "    <tr>\n",
       "      <th>299</th>\n",
       "      <td>68.0</td>\n",
       "      <td>1.0</td>\n",
       "      <td>4.0</td>\n",
       "      <td>144.0</td>\n",
       "      <td>193.0</td>\n",
       "      <td>1.0</td>\n",
       "      <td>0.0</td>\n",
       "      <td>141.0</td>\n",
       "      <td>0.0</td>\n",
       "      <td>3.4</td>\n",
       "      <td>2.0</td>\n",
       "      <td>2.0</td>\n",
       "      <td>7.0</td>\n",
       "      <td>1</td>\n",
       "    </tr>\n",
       "    <tr>\n",
       "      <th>300</th>\n",
       "      <td>57.0</td>\n",
       "      <td>1.0</td>\n",
       "      <td>4.0</td>\n",
       "      <td>130.0</td>\n",
       "      <td>131.0</td>\n",
       "      <td>0.0</td>\n",
       "      <td>0.0</td>\n",
       "      <td>115.0</td>\n",
       "      <td>1.0</td>\n",
       "      <td>1.2</td>\n",
       "      <td>2.0</td>\n",
       "      <td>1.0</td>\n",
       "      <td>7.0</td>\n",
       "      <td>1</td>\n",
       "    </tr>\n",
       "    <tr>\n",
       "      <th>301</th>\n",
       "      <td>57.0</td>\n",
       "      <td>0.0</td>\n",
       "      <td>2.0</td>\n",
       "      <td>130.0</td>\n",
       "      <td>236.0</td>\n",
       "      <td>0.0</td>\n",
       "      <td>2.0</td>\n",
       "      <td>174.0</td>\n",
       "      <td>0.0</td>\n",
       "      <td>0.0</td>\n",
       "      <td>2.0</td>\n",
       "      <td>1.0</td>\n",
       "      <td>3.0</td>\n",
       "      <td>1</td>\n",
       "    </tr>\n",
       "    <tr>\n",
       "      <th>302</th>\n",
       "      <td>38.0</td>\n",
       "      <td>1.0</td>\n",
       "      <td>3.0</td>\n",
       "      <td>138.0</td>\n",
       "      <td>175.0</td>\n",
       "      <td>0.0</td>\n",
       "      <td>0.0</td>\n",
       "      <td>173.0</td>\n",
       "      <td>0.0</td>\n",
       "      <td>0.0</td>\n",
       "      <td>1.0</td>\n",
       "      <td>NaN</td>\n",
       "      <td>3.0</td>\n",
       "      <td>0</td>\n",
       "    </tr>\n",
       "  </tbody>\n",
       "</table>\n",
       "<p>303 rows × 14 columns</p>\n",
       "</div>"
      ],
      "text/plain": [
       "      age  sex   cp  trestbps   chol  fbs  restecg  thalach  exang  oldpeak  \\\n",
       "0    63.0  1.0  1.0     145.0  233.0  1.0      2.0    150.0    0.0      2.3   \n",
       "1    67.0  1.0  4.0     160.0  286.0  0.0      2.0    108.0    1.0      1.5   \n",
       "2    67.0  1.0  4.0     120.0  229.0  0.0      2.0    129.0    1.0      2.6   \n",
       "3    37.0  1.0  3.0     130.0  250.0  0.0      0.0    187.0    0.0      3.5   \n",
       "4    41.0  0.0  2.0     130.0  204.0  0.0      2.0    172.0    0.0      1.4   \n",
       "..    ...  ...  ...       ...    ...  ...      ...      ...    ...      ...   \n",
       "298  45.0  1.0  1.0     110.0  264.0  0.0      0.0    132.0    0.0      1.2   \n",
       "299  68.0  1.0  4.0     144.0  193.0  1.0      0.0    141.0    0.0      3.4   \n",
       "300  57.0  1.0  4.0     130.0  131.0  0.0      0.0    115.0    1.0      1.2   \n",
       "301  57.0  0.0  2.0     130.0  236.0  0.0      2.0    174.0    0.0      0.0   \n",
       "302  38.0  1.0  3.0     138.0  175.0  0.0      0.0    173.0    0.0      0.0   \n",
       "\n",
       "     slope   ca  thal  disease  \n",
       "0      3.0  0.0   6.0        0  \n",
       "1      2.0  3.0   3.0        1  \n",
       "2      2.0  2.0   7.0        1  \n",
       "3      3.0  0.0   3.0        0  \n",
       "4      1.0  0.0   3.0        0  \n",
       "..     ...  ...   ...      ...  \n",
       "298    2.0  0.0   7.0        1  \n",
       "299    2.0  2.0   7.0        1  \n",
       "300    2.0  1.0   7.0        1  \n",
       "301    2.0  1.0   3.0        1  \n",
       "302    1.0  NaN   3.0        0  \n",
       "\n",
       "[303 rows x 14 columns]"
      ]
     },
     "execution_count": 2,
     "metadata": {},
     "output_type": "execute_result"
    }
   ],
   "source": [
    "import numpy as np # mathematics\n",
    "import pandas as pd # data\n",
    "\n",
    "df = pd.read_csv('../data/heart.csv') # df = pd.read_csv('heart.csv')\n",
    "df"
   ]
  },
  {
   "cell_type": "markdown",
   "id": "f0ed16f6",
   "metadata": {},
   "source": [
    "The target variable ($y$) is \"disease\". The other columns are the features we will use to make predictions ($X$)."
   ]
  },
  {
   "cell_type": "markdown",
   "id": "79c40ac0",
   "metadata": {},
   "source": [
    "### Dealing with missing values"
   ]
  },
  {
   "cell_type": "code",
   "execution_count": 3,
   "id": "4c32c3c2",
   "metadata": {},
   "outputs": [
    {
     "data": {
      "text/plain": [
       "age         0\n",
       "sex         0\n",
       "cp          0\n",
       "trestbps    0\n",
       "chol        0\n",
       "fbs         0\n",
       "restecg     0\n",
       "thalach     0\n",
       "exang       0\n",
       "oldpeak     0\n",
       "slope       0\n",
       "ca          4\n",
       "thal        2\n",
       "disease     0\n",
       "dtype: int64"
      ]
     },
     "execution_count": 3,
     "metadata": {},
     "output_type": "execute_result"
    }
   ],
   "source": [
    "df.isna().sum()"
   ]
  },
  {
   "cell_type": "markdown",
   "id": "95819f8a",
   "metadata": {},
   "source": [
    "There are some missing values in the \"ca\" and \"thal\" features. Many machine learning methods break when there are missing values, so we should fill these with something. There are many ways that we could choose to do this, and for some data sets the choice will have a big effect on model performance. When we only have a few missing values, then our choice shouldn't matter too much."
   ]
  },
  {
   "cell_type": "code",
   "execution_count": 4,
   "id": "5acd77c7",
   "metadata": {},
   "outputs": [
    {
     "data": {
      "text/plain": [
       "ca\n",
       "0.0    176\n",
       "1.0     65\n",
       "2.0     38\n",
       "3.0     20\n",
       "Name: count, dtype: int64"
      ]
     },
     "execution_count": 4,
     "metadata": {},
     "output_type": "execute_result"
    }
   ],
   "source": [
    "df['ca'].value_counts()"
   ]
  },
  {
   "cell_type": "markdown",
   "id": "f12c69ae",
   "metadata": {},
   "source": [
    "Most of the data points have zero values for \"ca\", so let's use this to fill the missing values."
   ]
  },
  {
   "cell_type": "code",
   "execution_count": 5,
   "id": "f13f5e0b",
   "metadata": {},
   "outputs": [],
   "source": [
    "df.loc[df['ca'].isna(), 'ca'] = 0"
   ]
  },
  {
   "cell_type": "code",
   "execution_count": 6,
   "id": "915e2819",
   "metadata": {},
   "outputs": [
    {
     "data": {
      "text/plain": [
       "thal\n",
       "3.0    166\n",
       "7.0    117\n",
       "6.0     18\n",
       "Name: count, dtype: int64"
      ]
     },
     "execution_count": 6,
     "metadata": {},
     "output_type": "execute_result"
    }
   ],
   "source": [
    "df['thal'].value_counts()"
   ]
  },
  {
   "cell_type": "markdown",
   "id": "73f4c59b",
   "metadata": {},
   "source": [
    "It seems like the values for \"thal\" are mostly 3 or 7, so let's fill the missing values as 5."
   ]
  },
  {
   "cell_type": "code",
   "execution_count": 7,
   "id": "9b388128",
   "metadata": {},
   "outputs": [],
   "source": [
    "df.loc[df['thal'].isna(), 'thal'] = 5"
   ]
  },
  {
   "cell_type": "markdown",
   "id": "66879698",
   "metadata": {},
   "source": [
    "Quickly check that we've caught all the missing values:"
   ]
  },
  {
   "cell_type": "code",
   "execution_count": 8,
   "id": "8bb557ef",
   "metadata": {},
   "outputs": [
    {
     "data": {
      "text/plain": [
       "age         False\n",
       "sex         False\n",
       "cp          False\n",
       "trestbps    False\n",
       "chol        False\n",
       "fbs         False\n",
       "restecg     False\n",
       "thalach     False\n",
       "exang       False\n",
       "oldpeak     False\n",
       "slope       False\n",
       "ca          False\n",
       "thal        False\n",
       "disease     False\n",
       "dtype: bool"
      ]
     },
     "execution_count": 8,
     "metadata": {},
     "output_type": "execute_result"
    }
   ],
   "source": [
    "df.isna().any()"
   ]
  },
  {
   "cell_type": "markdown",
   "id": "6e83a3aa",
   "metadata": {},
   "source": [
    "WARNING: we have cheated slightly here! It is best to fill missing values and standardise the variables using only the information in the training data. Why do you think this is?"
   ]
  },
  {
   "cell_type": "code",
   "execution_count": 9,
   "id": "afa609e5",
   "metadata": {},
   "outputs": [],
   "source": [
    "from sklearn.model_selection import train_test_split\n",
    "\n",
    "y = df['disease']\n",
    "X = df.drop(columns = ['disease'])\n",
    "X_train, X_test, y_train, y_test = train_test_split(X, y, test_size=0.2, random_state=0)"
   ]
  },
  {
   "cell_type": "markdown",
   "id": "34feb6ff",
   "metadata": {},
   "source": [
    "### Standardising variables"
   ]
  },
  {
   "cell_type": "markdown",
   "id": "15eb4922",
   "metadata": {},
   "source": [
    "Some algorithms weight variables with different importance depending on their scale, so a variable which takes values between 0 and 1 will be treated differently to one taking values between 0 and 100. This is bad news. Consider a variable which represents a proportion (0 to 1). We could equally express it as a percentage (0 to 100). These contain the same information, so should be treated the same.\n",
    "\n",
    "To deal with this, it is important to standardise the variables. This is typically done so that each variable has mean zero and standard deviation one. This only needs to be done for the predictors $X$, not the response $y$."
   ]
  },
  {
   "cell_type": "code",
   "execution_count": 10,
   "id": "63e3b257",
   "metadata": {},
   "outputs": [
    {
     "name": "stdout",
     "output_type": "stream",
     "text": [
      "                mean        std\n",
      "age        54.334711   9.149720\n",
      "sex         0.690083   0.463418\n",
      "cp          3.161157   0.969910\n",
      "trestbps  132.392562  17.546111\n",
      "chol      244.958678  50.218592\n",
      "fbs         0.152893   0.360630\n",
      "restecg     0.975207   0.993446\n",
      "thalach   149.326446  22.306541\n",
      "exang       0.330579   0.471396\n",
      "oldpeak     1.076860   1.201469\n",
      "slope       1.623967   0.633704\n",
      "ca          0.681818   0.969450\n",
      "thal        4.896694   1.939347\n"
     ]
    }
   ],
   "source": [
    "X_mean = X_train.mean()\n",
    "X_std = X_train.std()\n",
    "print(pd.DataFrame({'mean': X_mean, 'std': X_std}))"
   ]
  },
  {
   "cell_type": "code",
   "execution_count": 11,
   "id": "b67350d3",
   "metadata": {},
   "outputs": [],
   "source": [
    "X_train_standard = (X_train - X_mean) / X_std\n",
    "X_test_standard = (X_test - X_mean) / X_std"
   ]
  },
  {
   "cell_type": "code",
   "execution_count": 12,
   "id": "45f9b8f7",
   "metadata": {},
   "outputs": [],
   "source": [
    "from sklearn.linear_model import LogisticRegression\n",
    "from sklearn.metrics import accuracy_score"
   ]
  },
  {
   "cell_type": "code",
   "execution_count": 13,
   "id": "8683fd51",
   "metadata": {},
   "outputs": [
    {
     "name": "stdout",
     "output_type": "stream",
     "text": [
      "0.7377049180327869\n"
     ]
    }
   ],
   "source": [
    "model = LogisticRegression(penalty = 'l2', C = 0.01, max_iter=1000) # don't worry about what this model is for now\n",
    "model.fit(X=X_train, y=y_train)\n",
    "print(accuracy_score(y_true=y_test, y_pred=model.predict(X_test)))"
   ]
  },
  {
   "cell_type": "code",
   "execution_count": 14,
   "id": "6f559bc5",
   "metadata": {},
   "outputs": [
    {
     "name": "stdout",
     "output_type": "stream",
     "text": [
      "0.8032786885245902\n"
     ]
    }
   ],
   "source": [
    "model_standard = LogisticRegression(penalty = 'l2', C = 0.01, max_iter=1000)\n",
    "model_standard.fit(X=X_train_standard, y=y_train)\n",
    "print(accuracy_score(y_true=y_test, y_pred=model_standard.predict(X_test_standard)))"
   ]
  },
  {
   "cell_type": "markdown",
   "id": "ed07b008",
   "metadata": {},
   "source": [
    "In this case the standardisation has helped the model. When might this not be true?"
   ]
  },
  {
   "cell_type": "markdown",
   "id": "bd785e38",
   "metadata": {},
   "source": [
    "### Bonus: normalisation\n",
    "\n",
    "So far we have made the predictors in \"X\" have mean zero and standard deviation one. But the variables can still have very different distributions. Normalisation is when we try to make the variables follow a normal distribution (with mean zero and standard deviation one)."
   ]
  },
  {
   "cell_type": "code",
   "execution_count": 15,
   "id": "1608c529",
   "metadata": {},
   "outputs": [
    {
     "data": {
      "image/png": "[encoded data removed]",
      "text/plain": [
       "<Figure size 720x360 with 1 Axes>"
      ]
     },
     "metadata": {
      "needs_background": "light"
     },
     "output_type": "display_data"
    }
   ],
   "source": [
    "import matplotlib.pyplot as plt # tools for plotting\n",
    "\n",
    "plt.rcParams['figure.figsize'] = [10, 5] # make plots bigger\n",
    "plt.hist(np.random.normal(size=10000)) # normal distribution\n",
    "plt.show()"
   ]
  },
  {
   "cell_type": "markdown",
   "id": "4f366e1d",
   "metadata": {},
   "source": [
    "It is very useful to plot the variables to see how they are distributed."
   ]
  },
  {
   "cell_type": "code",
   "execution_count": 16,
   "id": "bc1c0e6e",
   "metadata": {},
   "outputs": [
    {
     "data": {
      "image/png": "[encoded data removed]",
      "text/plain": [
       "<Figure size 720x360 with 5 Axes>"
      ]
     },
     "metadata": {
      "needs_background": "light"
     },
     "output_type": "display_data"
    }
   ],
   "source": [
    "X_train_standard[['age', 'trestbps', 'chol', 'thalach', 'oldpeak']].hist(layout=(1,5))\n",
    "plt.show()"
   ]
  },
  {
   "cell_type": "markdown",
   "id": "56581daa",
   "metadata": {},
   "source": [
    "Tricks to normalise variables include taking logarithms, square-roots, and other monotone transformations before we standardise. There is no \"correct\" answer here - it takes practice."
   ]
  }
 ],
 "metadata": {
  "kernelspec": {
   "display_name": "Python 3 (ipykernel)",
   "language": "python",
   "name": "python3"
  },
  "language_info": {
   "codemirror_mode": {
    "name": "ipython",
    "version": 3
   },
   "file_extension": ".py",
   "mimetype": "text/x-python",
   "name": "python",
   "nbconvert_exporter": "python",
   "pygments_lexer": "ipython3",
   "version": "3.9.6"
  }
 },
 "nbformat": 4,
 "nbformat_minor": 5
}
