{
 "cells": [
  {
   "cell_type": "markdown",
   "id": "e76c27f1",
   "metadata": {},
   "source": [
    "# Common machine learning methods\n",
    "\n",
    "In this lesson we will cover four well-known machine learning methods:\n",
    "1. Support vector machine.\n",
    "2. Kernel methods.\n",
    "3. Nearest neighbours.\n",
    "4. Decision trees.\n",
    "\n",
    "We haven't used the Cardiovascular Disease data for building models yet, so let's do that!\n",
    "\n",
    "Remember the machine learning process:\n",
    "1. Load the data.\n",
    "2. Clean the data.\n",
    "3. Split the data for training and testing.\n",
    "4. Build a model.\n",
    "5. Train the model.\n",
    "6. Test the model.\n",
    "7. Improve the model, repeating steps 4-6."
   ]
  },
  {
   "cell_type": "code",
   "execution_count": 21,
   "id": "b07b7776",
   "metadata": {},
   "outputs": [],
   "source": [
    "# import functions\n",
    "import numpy as np # mathematics\n",
    "import pandas as pd # data\n",
    "from sklearn.model_selection import train_test_split\n",
    "from sklearn.preprocessing import StandardScaler # for standardising\n",
    "\n",
    "# load data\n",
    "df = pd.read_csv('../data/heart.csv')\n",
    "\n",
    "# clean data\n",
    "df.loc[df['ca'].isna(), 'ca'] = 0\n",
    "df.loc[df['thal'].isna(), 'thal'] = 5\n",
    "\n",
    "# train-test split\n",
    "y = df['disease']\n",
    "X = df.drop(columns = ['disease'])\n",
    "X_train, X_test, y_train, y_test = train_test_split(X, y, test_size=0.2, random_state=0, stratify=y)\n",
    "\n",
    "# standardise\n",
    "scaler = StandardScaler()\n",
    "scaler.fit(X_train) # use only information in training set for standardising\n",
    "X_train = pd.DataFrame(scaler.transform(X_train), columns = X.columns)\n",
    "X_test = pd.DataFrame(scaler.transform(X_test), columns = X.columns)"
   ]
  },
  {
   "cell_type": "markdown",
   "id": "80cbcf4d",
   "metadata": {},
   "source": [
    "For this data the response $y$ is binary - heart disease ($y=1$) or no heart disease ($y=0$)."
   ]
  },
  {
   "cell_type": "markdown",
   "id": "60295468",
   "metadata": {},
   "source": [
    "# Support vector machine (SVM)\n",
    "This is another classifier based on linear modelling, similar to logistic regression. Rather than predicting the probability of each response $y$ being 0 or 1, a support vector machine splits the $X$ data in half using a **hyperplane** so that most of the data on one side have $y=0$, and most of the data on the other side have $y=0$. Hyperplanes are defined by an equation of the form $\\beta X = 0$ (this is the \"linear\" part of SVMs). Let's give an example when we have a single predictor $x$."
   ]
  },
  {
   "cell_type": "code",
   "execution_count": 22,
   "id": "ed7d4ded",
   "metadata": {},
   "outputs": [
    {
     "data": {
      "image/png": "[encoded data removed]",
      "text/plain": [
       "<Figure size 432x288 with 1 Axes>"
      ]
     },
     "metadata": {
      "needs_background": "light"
     },
     "output_type": "display_data"
    }
   ],
   "source": [
    "import matplotlib.pyplot as plt\n",
    "x_example = np.random.normal(size=100)\n",
    "y_example = np.random.binomial(n=1, p=1/(1+np.exp(-3*x_example)))\n",
    "plt.scatter(x_example, y_example)\n",
    "plt.xlabel(\"x\")\n",
    "plt.ylabel(\"y\")\n",
    "plt.show()"
   ]
  },
  {
   "cell_type": "markdown",
   "id": "85370019",
   "metadata": {},
   "source": [
    "In this case $x$ takes values on the real line, so hyperplane equations take the form $a + bx = 0$, which simplifies to $x = x_0$. The support vector machine classifies all data points with $x < x_0$ as one class and all data points with $x > x_0$ as the other."
   ]
  },
  {
   "cell_type": "code",
   "execution_count": 26,
   "id": "65cf6773",
   "metadata": {},
   "outputs": [
    {
     "data": {
      "image/png": "[encoded data removed]",
      "text/plain": [
       "<Figure size 432x288 with 1 Axes>"
      ]
     },
     "metadata": {
      "needs_background": "light"
     },
     "output_type": "display_data"
    }
   ],
   "source": [
    "from sklearn.svm import SVC\n",
    "\n",
    "svm_example = SVC(kernel='linear') # SVC applies a kernel method by default - see next section\n",
    "svm_example.fit(x_example.reshape(-1, 1), y_example)\n",
    "\n",
    "# find decision boundary\n",
    "x0 = (max(x[svm_example.predict(x_example.reshape(-1, 1)) == 0]) + min(x[svm_example.predict(x_example.reshape(-1, 1)) == 1]))/2\n",
    "\n",
    "plt.scatter(x_example, y_example)\n",
    "plt.vlines(x0, 0, 1, color=\"red\")\n",
    "plt.xlabel(\"x\")\n",
    "plt.ylabel(\"y\")\n",
    "plt.show()"
   ]
  },
  {
   "cell_type": "markdown",
   "id": "1850b6a6",
   "metadata": {},
   "source": [
    "This generalises to higher dimensional $X$, where we have multiple predictors. The plots below show $X$ datapoints in two and three-dimensional spaces (when we have either two or three predictors), with the corresponding $y$ values being represented as green circles and red squares.\n",
    "\n",
    "<img src='https://miro.medium.com/v2/resize:fit:1100/format:webp/1*ZpkLQf2FNfzfH4HXeMw4MQ.png' title='Hyperplanes' width=500/>\n",
    "\n",
    "Now that we understand what the support vector machine is doing, let's apply it to our heart disease data."
   ]
  },
  {
   "cell_type": "code",
   "execution_count": 27,
   "id": "25a3c3c7",
   "metadata": {},
   "outputs": [
    {
     "name": "stdout",
     "output_type": "stream",
     "text": [
      "Accuracy = 0.8524590163934426\n"
     ]
    }
   ],
   "source": [
    "from sklearn.metrics import accuracy_score # for evaluating model performance\n",
    "\n",
    "svm = SVC(kernel='linear')\n",
    "svm.fit(X_train, y_train)\n",
    "print('Accuracy = ' + str(accuracy_score(y_test, svm.predict(X_test))))"
   ]
  },
  {
   "cell_type": "markdown",
   "id": "815bcfc2",
   "metadata": {},
   "source": [
    "# Kernel methods\n",
    "We can extend linear models of the form $a + bx$ by transforming the existing predictor into several new features $ x \\mapsto (\\tilde x_1, \\ldots, \\tilde x_p)$, and then fitting a linear model $\\tilde a + \\tilde b_1 \\tilde x_1 + \\ldots + \\tilde b_p \\tilde x_p$. Kernel methods give an automatic way of doing this. These approaches often do well when the dimension of $X$ is small to begin with, but get into trouble when we have a lot of original predictors.\n",
    "\n",
    "For classification the most common approach is the kernel support vector machine, for regression it is kernel ridge regression. We demonstrate kernel SVM here."
   ]
  },
  {
   "cell_type": "code",
   "execution_count": 33,
   "id": "17aedf32",
   "metadata": {},
   "outputs": [
    {
     "name": "stdout",
     "output_type": "stream",
     "text": [
      "Accuracy = 0.8852459016393442\n"
     ]
    }
   ],
   "source": [
    "ksvm = SVC(kernel='poly') # Polynomial kernel\n",
    "ksvm.fit(X_train, y_train)\n",
    "print('Accuracy = ' + str(accuracy_score(y_test, ksvm.predict(X_test))))"
   ]
  },
  {
   "cell_type": "code",
   "execution_count": null,
   "id": "204b3865",
   "metadata": {},
   "outputs": [],
   "source": []
  }
 ],
 "metadata": {
  "kernelspec": {
   "display_name": "Python 3 (ipykernel)",
   "language": "python",
   "name": "python3"
  },
  "language_info": {
   "codemirror_mode": {
    "name": "ipython",
    "version": 3
   },
   "file_extension": ".py",
   "mimetype": "text/x-python",
   "name": "python",
   "nbconvert_exporter": "python",
   "pygments_lexer": "ipython3",
   "version": "3.9.6"
  }
 },
 "nbformat": 4,
 "nbformat_minor": 5
}
