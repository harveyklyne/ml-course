{
 "cells": [
  {
   "cell_type": "markdown",
   "id": "7aa5d3ad",
   "metadata": {},
   "source": [
    "So far we have met many machine learning methods which require us to specify certain **hyperparameters**.\n",
    "\n",
    "Examples:\n",
    "1. ```Ridge(alpha = 1)```\n",
    "2. ```Lasso(alpha = 0.05)```\n",
    "3. ```SVC(kernel = 'poly')```\n",
    "4. ```KNeighborsClassifier(n_neighbors = 5)```\n",
    "5. ```DecisionTreeRegressor(max_depth = 5, max_features = 'sqrt')```\n",
    "\n",
    "We have seen that changing the values of the hyperparameters results in different test scores. We would like to choose these hyperparameters in order to do as well as possible. This is called \"tuning\". The goal of this lesson is to introduce the Cross Validation (CV) tool for tuning, which is extremely popular in machine learning. We will focus on the nearest neighbours machine learning method with house price data from last lesson."
   ]
  },
  {
   "cell_type": "code",
   "execution_count": 1,
   "id": "23a66fa6",
   "metadata": {},
   "outputs": [],
   "source": [
    "import pandas as pd\n",
    "import numpy as np\n",
    "from sklearn.model_selection import train_test_split\n",
    "from sklearn.preprocessing import StandardScaler\n",
    "\n",
    "# Load data (already cleaned)\n",
    "df = pd.read_csv('../data/house.csv') # df = pd.read_csv('house.csv')\n",
    "columns = ['LotArea', 'OverallQual', 'OverallCond', '1stFlrSF', '2ndFlrSF', 'FullBath', 'HalfBath', 'BedroomAbvGr', 'KitchenAbvGr', 'TotRmsAbvGrd', 'GarageArea']\n",
    "X = df[columns]\n",
    "y = np.log(df['SalePrice'])\n",
    "\n",
    "# Train-test split and standardise\n",
    "X_train, X_test, y_train, y_test = train_test_split(X, y, test_size=0.2, random_state=0)\n",
    "scaler = StandardScaler()\n",
    "scaler.fit(X_train) # use only information in training set for standardising\n",
    "X_train = pd.DataFrame(scaler.transform(X_train), columns = columns)\n",
    "X_test = pd.DataFrame(scaler.transform(X_test), columns = columns)"
   ]
  },
  {
   "cell_type": "code",
   "execution_count": 2,
   "id": "c9f07ace",
   "metadata": {},
   "outputs": [
    {
     "name": "stdout",
     "output_type": "stream",
     "text": [
      "Test error = 0.03483699975160402\n"
     ]
    }
   ],
   "source": [
    "from sklearn.neighbors import KNeighborsRegressor\n",
    "from sklearn.metrics import mean_squared_error\n",
    "\n",
    "# Default model\n",
    "model = KNeighborsRegressor() # default n_neighbors=5\n",
    "model.fit(X_train, y_train)\n",
    "print('Test error = ' + str(mean_squared_error(y_test, model.predict(X_test))))"
   ]
  },
  {
   "cell_type": "markdown",
   "id": "0d66aa34",
   "metadata": {},
   "source": [
    "# Validation set\n",
    "Remember that we are not supposed to look at the test data in order to fit our model, since we do not have access to this information in real world applications. One approach is to save some of the training data for a primary evaluation, and use this information to choose the hyperparameters.\n",
    "\n",
    "<img src='https://i.stack.imgur.com/pXAfX.png' title='Train-validation-test' width=500/>"
   ]
  },
  {
   "cell_type": "code",
   "execution_count": 3,
   "id": "de9eb434",
   "metadata": {},
   "outputs": [],
   "source": [
    "X_train_sub, X_validate, y_train_sub, y_validate = train_test_split(X_train, y_train, test_size=0.2, random_state=0)"
   ]
  },
  {
   "cell_type": "code",
   "execution_count": 4,
   "id": "8b96b192",
   "metadata": {},
   "outputs": [
    {
     "name": "stdout",
     "output_type": "stream",
     "text": [
      "n_neighbors = 1 has validation error = 0.045907492771206315\n",
      "n_neighbors = 2 has validation error = 0.03787449843564444\n",
      "n_neighbors = 3 has validation error = 0.03222297972522533\n",
      "n_neighbors = 4 has validation error = 0.02960525860083047\n",
      "n_neighbors = 5 has validation error = 0.028694680424827774\n",
      "n_neighbors = 6 has validation error = 0.029353744738692657\n",
      "n_neighbors = 7 has validation error = 0.0275264506297726\n",
      "n_neighbors = 8 has validation error = 0.027568243256657313\n",
      "n_neighbors = 9 has validation error = 0.02841514204596181\n",
      "n_neighbors = 10 has validation error = 0.028269010644269437\n"
     ]
    }
   ],
   "source": [
    "K_vals = np.array(range(1, 11)) # K between 1 and 10\n",
    "validation_scores = np.zeros(len(K_vals)) # to store the scores\n",
    "for i, K in enumerate(K_vals):\n",
    "    model = KNeighborsRegressor(n_neighbors=K) # default \n",
    "    model.fit(X_train_sub, y_train_sub) # train only on the non-validation subset of the training data\n",
    "    predictions = model.predict(X_validate) # evaluate on the validation set\n",
    "    score = mean_squared_error(y_validate, predictions)\n",
    "    print('n_neighbors = ' + str(K) + ' has validation error = ' + str(score))\n",
    "    validation_scores[i] = score"
   ]
  },
  {
   "cell_type": "code",
   "execution_count": 5,
   "id": "da2624ba",
   "metadata": {},
   "outputs": [
    {
     "data": {
      "image/png": "[encoded data removed]",
      "text/plain": [
       "<Figure size 432x288 with 1 Axes>"
      ]
     },
     "metadata": {
      "needs_background": "light"
     },
     "output_type": "display_data"
    }
   ],
   "source": [
    "import matplotlib.pyplot as plt\n",
    "\n",
    "plt.plot(K_vals, validation_scores)\n",
    "plt.xlabel('n_neighbors')\n",
    "plt.ylabel('Validation score')\n",
    "plt.show()"
   ]
  },
  {
   "cell_type": "markdown",
   "id": "4d886057",
   "metadata": {},
   "source": [
    "The best choice looks like ```n_neighbours=7```. Since we want to use all the available information to fit the model, we now re-fit on all the training data (including the validation set) using the selected hyperparameter."
   ]
  },
  {
   "cell_type": "code",
   "execution_count": 6,
   "id": "24a488eb",
   "metadata": {},
   "outputs": [
    {
     "name": "stdout",
     "output_type": "stream",
     "text": [
      "Test error = 0.033609341170578066\n"
     ]
    }
   ],
   "source": [
    "# Default model\n",
    "model = KNeighborsRegressor(n_neighbors=7) # n_neighbors chosen using validation set\n",
    "model.fit(X_train, y_train) # train on the whole training set\n",
    "print('Test error = ' + str(mean_squared_error(y_test, model.predict(X_test))))"
   ]
  },
  {
   "cell_type": "markdown",
   "id": "056ced6a",
   "metadata": {},
   "source": [
    "The test score has improved, without us having to cheat by using the test data to choose the model."
   ]
  },
  {
   "cell_type": "markdown",
   "id": "773b6d85",
   "metadata": {},
   "source": [
    "<img src='http://www.theobjects.com/dragonfly/dfhelp/2020-1/Content/Resources/Images/deep-learning/data-preparation-workflow.png' title='ML pipeline using validation set' width=500/>"
   ]
  },
  {
   "cell_type": "markdown",
   "id": "84c28acb",
   "metadata": {},
   "source": [
    "**Exercise:** Choose a different machine learning model, and re-create this exercise (for example use a ```DecisionTreeRegressor``` and allow the ```max_depth``` parameter to vary between 2 and 8. Does hyperparameter tuning improve your model?"
   ]
  },
  {
   "cell_type": "markdown",
   "id": "43ada2a9",
   "metadata": {},
   "source": [
    "# K-fold cross validation (CV)\n",
    "\n",
    "To make the validation set, we randomly selected part of the training data set (in this case 20%). We could have selected a totally different 20% of the training data and used that as the validation set instead. Cross validation recognises this. It works by dividing the data into K pieces (\"folds\"), using each one in turn as the validation set (with the other K-1 used for training), and then averaging the results. Common choices for the number of folds K are 5 and 10.\n",
    "\n",
    "<img src='https://scikit-learn.org/stable/_images/grid_search_cross_validation.png' title='5-fold CV' width=500/>\n",
    "\n",
    "You can read more about cross validation here (<https://scikit-learn.org/stable/modules/cross_validation.html>). Let's try it out on kernel ridge regression:"
   ]
  },
  {
   "cell_type": "code",
   "execution_count": 11,
   "id": "ab46c019",
   "metadata": {},
   "outputs": [
    {
     "name": "stdout",
     "output_type": "stream",
     "text": [
      "                              params  mean_test_score  rank_test_score\n",
      "0  {'alpha': 0.01, 'kernel': 'poly'}        -0.007342                4\n",
      "1   {'alpha': 0.01, 'kernel': 'rbf'}        -6.625060                5\n",
      "2   {'alpha': 0.1, 'kernel': 'poly'}         0.170150                3\n",
      "3    {'alpha': 0.1, 'kernel': 'rbf'}        -7.958501                6\n",
      "4     {'alpha': 1, 'kernel': 'poly'}         0.664055                1\n",
      "5      {'alpha': 1, 'kernel': 'rbf'}       -14.372120                7\n",
      "6    {'alpha': 10, 'kernel': 'poly'}         0.177432                2\n",
      "7     {'alpha': 10, 'kernel': 'rbf'}       -42.146361                8\n",
      "{'alpha': 1, 'kernel': 'poly'}\n"
     ]
    }
   ],
   "source": [
    "from sklearn.model_selection import GridSearchCV\n",
    "from sklearn.kernel_ridge import KernelRidge\n",
    "\n",
    "model = KernelRidge() # the base model\n",
    "parameters = {'kernel':('poly', 'rbf'), 'alpha':(0.01, 0.1, 1, 10)} # the potential parameters to choose from\n",
    "model_cv = GridSearchCV(model, parameters, cv=5) # 5-fold cross validation\n",
    "model_cv.fit(X_train, y_train) # perform the cross validation\n",
    "print(pd.DataFrame(model_cv.cv_results_)[['params', 'mean_test_score', 'rank_test_score']]) # display the results\n",
    "print(model_cv.best_params_) # show the best parameters"
   ]
  },
  {
   "cell_type": "code",
   "execution_count": 12,
   "id": "f0e4498c",
   "metadata": {},
   "outputs": [
    {
     "name": "stdout",
     "output_type": "stream",
     "text": [
      "Test error = 0.0611743963295221\n"
     ]
    }
   ],
   "source": [
    "# Sklearn allows us to use the model with the best parameters immediately\n",
    "predictions = model_cv.predict(X_test)\n",
    "print('Test error = ' + str(mean_squared_error(y_test, predictions)))"
   ]
  },
  {
   "cell_type": "markdown",
   "id": "1abcf8c9",
   "metadata": {},
   "source": [
    "**Exercise:** Repeat this experiment for another of the machine learning methods, being careful to specify appropriate parameters (for example run ```from sklearn.linear_model import Lasso```, ```model = Lasso()``` and ```parameters = {'alpha':(0.01, 0.02, 0.05, 0.1, 0.2, 0.5, 1)}```. What is the smallest test error you can achieve?"
   ]
  },
  {
   "cell_type": "code",
   "execution_count": null,
   "id": "f92f6f59",
   "metadata": {},
   "outputs": [],
   "source": []
  }
 ],
 "metadata": {
  "kernelspec": {
   "display_name": "Python 3 (ipykernel)",
   "language": "python",
   "name": "python3"
  },
  "language_info": {
   "codemirror_mode": {
    "name": "ipython",
    "version": 3
   },
   "file_extension": ".py",
   "mimetype": "text/x-python",
   "name": "python",
   "nbconvert_exporter": "python",
   "pygments_lexer": "ipython3",
   "version": "3.9.6"
  }
 },
 "nbformat": 4,
 "nbformat_minor": 5
}
