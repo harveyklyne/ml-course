{
 "cells": [
  {
   "cell_type": "markdown",
   "id": "f5929cdb",
   "metadata": {},
   "source": [
    "Ensemble methods combine multiple machine learning models to create a single much better one. The idea is that each model has gained its own insights from the data, and so by combining them we can utilise a much broader knowledge base.\n",
    "\n",
    "<img src='https://miro.medium.com/v2/resize:fit:1100/format:webp/1*Naj64WlDU1L9X3uNBCTf6A.png' title='Ensemble' width=500/>\n",
    "\n",
    "There are two main types of ensemble methods used in modern machine learning: bagging and boosting. In bagging, we randomly draw multiple samples from the data (\"bootstrapping\") and use each of these to train its own model (\"bagging\" is short for \"bootstrap aggregating\"). In boosting, we train a first model on the whole data, then work out which data points it performs poorly on and train a second model on these, and so on. For both boosting and bagging, we make predictions by averaging the predictions from each individual model. \n",
    "\n",
    "<img src='https://miro.medium.com/v2/resize:fit:1100/format:webp/1*XzaoQxMf4uLD5DIHz8JwbA.png' title='Bagging and boosting' width=1000/>\n",
    "\n",
    "Bagging has the advantage that training each model can be done in parallel, so it is very fast to generate lots of models. Boosting has the advantage that later models only need to focus on areas of the data which we aren't already doing well on, so they are more adaptable.\n",
    "\n",
    "The most popular ensemble methods use decision trees for the sub-models. In previous lessons we have used single trees, but now we will use lots of them simultaneously. When doing ensemble tree methods it is generally better to use lots of shallow trees than few deep trees, sensible values for ```max_depth``` are often between 2 and 5 depending on the number of predictors."
   ]
  },
  {
   "cell_type": "markdown",
   "id": "5c647fa3",
   "metadata": {},
   "source": [
    "# Random forests (bagging)\n",
    "\n",
    "Have a look at the documentation here (<https://scikit-learn.org/stable/modules/generated/sklearn.ensemble.RandomForestRegressor.html>). You will see that lots of the parameters are the same as those for decision trees. These parameters control the training for each of the trees in the forest. The key new parameter is ```n_estimators``` which determines the maximum number of trees to grow (the default is 100). Adding more trees reduces the training loss but can lead to overfitting, where we end up increasing the test or validation losses. We saw the same thing when looking at increasing the number of ```n_neighbors``` in nearest neighbor methods.\n",
    "\n",
    "Let's see this in action on the House Price data."
   ]
  },
  {
   "cell_type": "code",
   "execution_count": 1,
   "id": "e64ba3a6",
   "metadata": {},
   "outputs": [],
   "source": [
    "import pandas as pd\n",
    "import numpy as np\n",
    "from sklearn.model_selection import train_test_split\n",
    "from sklearn.preprocessing import StandardScaler\n",
    "\n",
    "# Load data (already cleaned)\n",
    "df = pd.read_csv('../data/house.csv') # df = pd.read_csv('house.csv')\n",
    "columns = ['LotArea', 'OverallQual', 'OverallCond', '1stFlrSF', '2ndFlrSF', 'FullBath', 'HalfBath', 'BedroomAbvGr', 'KitchenAbvGr', 'TotRmsAbvGrd', 'GarageArea']\n",
    "X = df[columns]\n",
    "y = np.log(df['SalePrice'])\n",
    "\n",
    "# Train-test split and standardise\n",
    "X_train, X_test, y_train, y_test = train_test_split(X, y, test_size=0.2, random_state=0)\n",
    "scaler = StandardScaler()\n",
    "scaler.fit(X_train) # use only information in training set for standardising\n",
    "X_train = pd.DataFrame(scaler.transform(X_train), columns = columns)\n",
    "X_test = pd.DataFrame(scaler.transform(X_test), columns = columns)"
   ]
  },
  {
   "cell_type": "code",
   "execution_count": 2,
   "id": "1bdd885e",
   "metadata": {},
   "outputs": [
    {
     "data": {
      "text/html": [
       "<style>#sk-container-id-1 {color: black;}#sk-container-id-1 pre{padding: 0;}#sk-container-id-1 div.sk-toggleable {background-color: white;}#sk-container-id-1 label.sk-toggleable__label {cursor: pointer;display: block;width: 100%;margin-bottom: 0;padding: 0.3em;box-sizing: border-box;text-align: center;}#sk-container-id-1 label.sk-toggleable__label-arrow:before {content: \"▸\";float: left;margin-right: 0.25em;color: #696969;}#sk-container-id-1 label.sk-toggleable__label-arrow:hover:before {color: black;}#sk-container-id-1 div.sk-estimator:hover label.sk-toggleable__label-arrow:before {color: black;}#sk-container-id-1 div.sk-toggleable__content {max-height: 0;max-width: 0;overflow: hidden;text-align: left;background-color: #f0f8ff;}#sk-container-id-1 div.sk-toggleable__content pre {margin: 0.2em;color: black;border-radius: 0.25em;background-color: #f0f8ff;}#sk-container-id-1 input.sk-toggleable__control:checked~div.sk-toggleable__content {max-height: 200px;max-width: 100%;overflow: auto;}#sk-container-id-1 input.sk-toggleable__control:checked~label.sk-toggleable__label-arrow:before {content: \"▾\";}#sk-container-id-1 div.sk-estimator input.sk-toggleable__control:checked~label.sk-toggleable__label {background-color: #d4ebff;}#sk-container-id-1 div.sk-label input.sk-toggleable__control:checked~label.sk-toggleable__label {background-color: #d4ebff;}#sk-container-id-1 input.sk-hidden--visually {border: 0;clip: rect(1px 1px 1px 1px);clip: rect(1px, 1px, 1px, 1px);height: 1px;margin: -1px;overflow: hidden;padding: 0;position: absolute;width: 1px;}#sk-container-id-1 div.sk-estimator {font-family: monospace;background-color: #f0f8ff;border: 1px dotted black;border-radius: 0.25em;box-sizing: border-box;margin-bottom: 0.5em;}#sk-container-id-1 div.sk-estimator:hover {background-color: #d4ebff;}#sk-container-id-1 div.sk-parallel-item::after {content: \"\";width: 100%;border-bottom: 1px solid gray;flex-grow: 1;}#sk-container-id-1 div.sk-label:hover label.sk-toggleable__label {background-color: #d4ebff;}#sk-container-id-1 div.sk-serial::before {content: \"\";position: absolute;border-left: 1px solid gray;box-sizing: border-box;top: 0;bottom: 0;left: 50%;z-index: 0;}#sk-container-id-1 div.sk-serial {display: flex;flex-direction: column;align-items: center;background-color: white;padding-right: 0.2em;padding-left: 0.2em;position: relative;}#sk-container-id-1 div.sk-item {position: relative;z-index: 1;}#sk-container-id-1 div.sk-parallel {display: flex;align-items: stretch;justify-content: center;background-color: white;position: relative;}#sk-container-id-1 div.sk-item::before, #sk-container-id-1 div.sk-parallel-item::before {content: \"\";position: absolute;border-left: 1px solid gray;box-sizing: border-box;top: 0;bottom: 0;left: 50%;z-index: -1;}#sk-container-id-1 div.sk-parallel-item {display: flex;flex-direction: column;z-index: 1;position: relative;background-color: white;}#sk-container-id-1 div.sk-parallel-item:first-child::after {align-self: flex-end;width: 50%;}#sk-container-id-1 div.sk-parallel-item:last-child::after {align-self: flex-start;width: 50%;}#sk-container-id-1 div.sk-parallel-item:only-child::after {width: 0;}#sk-container-id-1 div.sk-dashed-wrapped {border: 1px dashed gray;margin: 0 0.4em 0.5em 0.4em;box-sizing: border-box;padding-bottom: 0.4em;background-color: white;}#sk-container-id-1 div.sk-label label {font-family: monospace;font-weight: bold;display: inline-block;line-height: 1.2em;}#sk-container-id-1 div.sk-label-container {text-align: center;}#sk-container-id-1 div.sk-container {/* jupyter's `normalize.less` sets `[hidden] { display: none; }` but bootstrap.min.css set `[hidden] { display: none !important; }` so we also need the `!important` here to be able to override the default hidden behavior on the sphinx rendered scikit-learn.org. See: https://github.com/scikit-learn/scikit-learn/issues/21755 */display: inline-block !important;position: relative;}#sk-container-id-1 div.sk-text-repr-fallback {display: none;}</style><div id=\"sk-container-id-1\" class=\"sk-top-container\"><div class=\"sk-text-repr-fallback\"><pre>RandomForestRegressor(max_depth=4, n_estimators=500, random_state=0)</pre><b>In a Jupyter environment, please rerun this cell to show the HTML representation or trust the notebook. <br />On GitHub, the HTML representation is unable to render, please try loading this page with nbviewer.org.</b></div><div class=\"sk-container\" hidden><div class=\"sk-item\"><div class=\"sk-estimator sk-toggleable\"><input class=\"sk-toggleable__control sk-hidden--visually\" id=\"sk-estimator-id-1\" type=\"checkbox\" checked><label for=\"sk-estimator-id-1\" class=\"sk-toggleable__label sk-toggleable__label-arrow\">RandomForestRegressor</label><div class=\"sk-toggleable__content\"><pre>RandomForestRegressor(max_depth=4, n_estimators=500, random_state=0)</pre></div></div></div></div></div>"
      ],
      "text/plain": [
       "RandomForestRegressor(max_depth=4, n_estimators=500, random_state=0)"
      ]
     },
     "execution_count": 2,
     "metadata": {},
     "output_type": "execute_result"
    }
   ],
   "source": [
    "from sklearn.ensemble import RandomForestRegressor\n",
    "\n",
    "rf = RandomForestRegressor(n_estimators=500, max_depth=4, random_state=0)\n",
    "rf.fit(X_train, y_train)"
   ]
  },
  {
   "cell_type": "code",
   "execution_count": 3,
   "id": "d5e0b4ce",
   "metadata": {
    "scrolled": true
   },
   "outputs": [
    {
     "data": {
      "image/png": "[encoded data removed]",
      "text/plain": [
       "<Figure size 432x288 with 1 Axes>"
      ]
     },
     "metadata": {
      "needs_background": "light"
     },
     "output_type": "display_data"
    },
    {
     "name": "stdout",
     "output_type": "stream",
     "text": [
      "Minimum training error achieved at n_estimators = 159\n",
      "Minimum test error achieved at n_estimators = 47\n"
     ]
    }
   ],
   "source": [
    "import matplotlib.pyplot as plt\n",
    "\n",
    "# Define a function to compute the score as we include more trees\n",
    "def cumulative_score(randomforest, X_df, y_ser):\n",
    "    individual_predictions = pd.DataFrame([est.predict(X_df.values) for est in randomforest.estimators_])\n",
    "    cumulative_predictions = individual_predictions.expanding().mean()\n",
    "    cumulative_errors = (cumulative_predictions - y_ser.reset_index(drop=True)) ** 2\n",
    "    return cumulative_errors.mean(axis=1).values\n",
    "\n",
    "train_scores = cumulative_score(rf, X_train, y_train)\n",
    "test_scores = cumulative_score(rf, X_test, y_test)\n",
    "plt.plot(range(rf.n_estimators), np.log(train_scores), color=\"blue\", label=\"train error\")\n",
    "plt.plot(range(rf.n_estimators), np.log(test_scores), color=\"red\", label=\"test error\")\n",
    "plt.legend()\n",
    "plt.xlabel('n_estimators')\n",
    "plt.ylabel('log error')\n",
    "plt.show()\n",
    "\n",
    "print('Minimum training error achieved at n_estimators = ' + str(np.argmin(train_scores)+1))\n",
    "print('Minimum test error achieved at n_estimators = ' + str(np.argmin(test_scores)+1))"
   ]
  },
  {
   "cell_type": "markdown",
   "id": "655876e1",
   "metadata": {},
   "source": [
    "Let's apply what we learned about cross validation to choose the parameters. The next cell might take a few minutes to run!"
   ]
  },
  {
   "cell_type": "code",
   "execution_count": 5,
   "id": "22642a96",
   "metadata": {},
   "outputs": [
    {
     "name": "stdout",
     "output_type": "stream",
     "text": [
      "{'max_depth': 5, 'max_features': 0.5, 'n_estimators': 200}\n"
     ]
    }
   ],
   "source": [
    "from sklearn.model_selection import GridSearchCV\n",
    "\n",
    "rf = RandomForestRegressor()\n",
    "parameters = {'max_depth': [2, 3, 4, 5],\n",
    "              'max_features' : [0.5, 0.8, 1],\n",
    "              'n_estimators': [50, 100, 200]}\n",
    "rf_cv = GridSearchCV(rf, parameters, cv=5)\n",
    "rf_cv.fit(X_train, y_train)\n",
    "print(rf_cv.best_params_)"
   ]
  },
  {
   "cell_type": "code",
   "execution_count": 6,
   "id": "9c9c4eb0",
   "metadata": {},
   "outputs": [
    {
     "name": "stdout",
     "output_type": "stream",
     "text": [
      "Test error = 0.0269574714253026\n"
     ]
    }
   ],
   "source": [
    "from sklearn.metrics import mean_squared_error\n",
    "print('Test error = ' + str(mean_squared_error(y_test, rf_cv.predict(X_test))))"
   ]
  },
  {
   "cell_type": "markdown",
   "id": "97c11215",
   "metadata": {},
   "source": [
    "This is the lowest test error we have seen on all the methods so far!"
   ]
  },
  {
   "cell_type": "markdown",
   "id": "03e554ed",
   "metadata": {},
   "source": [
    "# Gradient boosted trees (boosting)\n",
    "\n",
    "This is probably the most exciting machine learning method for tabular (X and y) data! The parameters for gradient boosting are similar to those of the random forest (see https://scikit-learn.org/stable/modules/generated/sklearn.ensemble.GradientBoostingRegressor.html)."
   ]
  },
  {
   "cell_type": "code",
   "execution_count": 7,
   "id": "e955849b",
   "metadata": {},
   "outputs": [
    {
     "data": {
      "text/html": [
       "<style>#sk-container-id-2 {color: black;}#sk-container-id-2 pre{padding: 0;}#sk-container-id-2 div.sk-toggleable {background-color: white;}#sk-container-id-2 label.sk-toggleable__label {cursor: pointer;display: block;width: 100%;margin-bottom: 0;padding: 0.3em;box-sizing: border-box;text-align: center;}#sk-container-id-2 label.sk-toggleable__label-arrow:before {content: \"▸\";float: left;margin-right: 0.25em;color: #696969;}#sk-container-id-2 label.sk-toggleable__label-arrow:hover:before {color: black;}#sk-container-id-2 div.sk-estimator:hover label.sk-toggleable__label-arrow:before {color: black;}#sk-container-id-2 div.sk-toggleable__content {max-height: 0;max-width: 0;overflow: hidden;text-align: left;background-color: #f0f8ff;}#sk-container-id-2 div.sk-toggleable__content pre {margin: 0.2em;color: black;border-radius: 0.25em;background-color: #f0f8ff;}#sk-container-id-2 input.sk-toggleable__control:checked~div.sk-toggleable__content {max-height: 200px;max-width: 100%;overflow: auto;}#sk-container-id-2 input.sk-toggleable__control:checked~label.sk-toggleable__label-arrow:before {content: \"▾\";}#sk-container-id-2 div.sk-estimator input.sk-toggleable__control:checked~label.sk-toggleable__label {background-color: #d4ebff;}#sk-container-id-2 div.sk-label input.sk-toggleable__control:checked~label.sk-toggleable__label {background-color: #d4ebff;}#sk-container-id-2 input.sk-hidden--visually {border: 0;clip: rect(1px 1px 1px 1px);clip: rect(1px, 1px, 1px, 1px);height: 1px;margin: -1px;overflow: hidden;padding: 0;position: absolute;width: 1px;}#sk-container-id-2 div.sk-estimator {font-family: monospace;background-color: #f0f8ff;border: 1px dotted black;border-radius: 0.25em;box-sizing: border-box;margin-bottom: 0.5em;}#sk-container-id-2 div.sk-estimator:hover {background-color: #d4ebff;}#sk-container-id-2 div.sk-parallel-item::after {content: \"\";width: 100%;border-bottom: 1px solid gray;flex-grow: 1;}#sk-container-id-2 div.sk-label:hover label.sk-toggleable__label {background-color: #d4ebff;}#sk-container-id-2 div.sk-serial::before {content: \"\";position: absolute;border-left: 1px solid gray;box-sizing: border-box;top: 0;bottom: 0;left: 50%;z-index: 0;}#sk-container-id-2 div.sk-serial {display: flex;flex-direction: column;align-items: center;background-color: white;padding-right: 0.2em;padding-left: 0.2em;position: relative;}#sk-container-id-2 div.sk-item {position: relative;z-index: 1;}#sk-container-id-2 div.sk-parallel {display: flex;align-items: stretch;justify-content: center;background-color: white;position: relative;}#sk-container-id-2 div.sk-item::before, #sk-container-id-2 div.sk-parallel-item::before {content: \"\";position: absolute;border-left: 1px solid gray;box-sizing: border-box;top: 0;bottom: 0;left: 50%;z-index: -1;}#sk-container-id-2 div.sk-parallel-item {display: flex;flex-direction: column;z-index: 1;position: relative;background-color: white;}#sk-container-id-2 div.sk-parallel-item:first-child::after {align-self: flex-end;width: 50%;}#sk-container-id-2 div.sk-parallel-item:last-child::after {align-self: flex-start;width: 50%;}#sk-container-id-2 div.sk-parallel-item:only-child::after {width: 0;}#sk-container-id-2 div.sk-dashed-wrapped {border: 1px dashed gray;margin: 0 0.4em 0.5em 0.4em;box-sizing: border-box;padding-bottom: 0.4em;background-color: white;}#sk-container-id-2 div.sk-label label {font-family: monospace;font-weight: bold;display: inline-block;line-height: 1.2em;}#sk-container-id-2 div.sk-label-container {text-align: center;}#sk-container-id-2 div.sk-container {/* jupyter's `normalize.less` sets `[hidden] { display: none; }` but bootstrap.min.css set `[hidden] { display: none !important; }` so we also need the `!important` here to be able to override the default hidden behavior on the sphinx rendered scikit-learn.org. See: https://github.com/scikit-learn/scikit-learn/issues/21755 */display: inline-block !important;position: relative;}#sk-container-id-2 div.sk-text-repr-fallback {display: none;}</style><div id=\"sk-container-id-2\" class=\"sk-top-container\"><div class=\"sk-text-repr-fallback\"><pre>GradientBoostingRegressor()</pre><b>In a Jupyter environment, please rerun this cell to show the HTML representation or trust the notebook. <br />On GitHub, the HTML representation is unable to render, please try loading this page with nbviewer.org.</b></div><div class=\"sk-container\" hidden><div class=\"sk-item\"><div class=\"sk-estimator sk-toggleable\"><input class=\"sk-toggleable__control sk-hidden--visually\" id=\"sk-estimator-id-2\" type=\"checkbox\" checked><label for=\"sk-estimator-id-2\" class=\"sk-toggleable__label sk-toggleable__label-arrow\">GradientBoostingRegressor</label><div class=\"sk-toggleable__content\"><pre>GradientBoostingRegressor()</pre></div></div></div></div></div>"
      ],
      "text/plain": [
       "GradientBoostingRegressor()"
      ]
     },
     "execution_count": 7,
     "metadata": {},
     "output_type": "execute_result"
    }
   ],
   "source": [
    "from sklearn.ensemble import GradientBoostingRegressor\n",
    "GradientBoostingRegressor()"
   ]
  },
  {
   "cell_type": "markdown",
   "id": "f388b795",
   "metadata": {},
   "source": [
    "Write out the code to do cross validated gradient boosting on the House Price data, like we did with the random forest above. You may use the same parameters for the cross validation. What test score do you get?"
   ]
  },
  {
   "cell_type": "markdown",
   "id": "bdf5d5c2",
   "metadata": {},
   "source": [
    "# The whole game\n",
    "\n",
    "You now know everything you need to apply modern machine learning methods yourself. So far in this lesson we have used ensemble methods to perform regression on the House Price data. The final challenge for this course is for you to perform classification on the Titanic data from lesson one.\n",
    "\n",
    "Remember:\n",
    "1. Load the data.\n",
    "2. Clean the data.\n",
    "3. Split the data for training and testing.\n",
    "4. Build a model.\n",
    "5. Train the model.\n",
    "6. Test the model.\n",
    "7. Improve the model, repeating steps 4-6."
   ]
  },
  {
   "cell_type": "code",
   "execution_count": 13,
   "id": "d21d2b84",
   "metadata": {},
   "outputs": [],
   "source": [
    "import pandas as pd # Import a standard toolbox for handling data\n",
    "df = pd.read_csv('../data/titanic.csv') # If running in Google Colab, upload the data file and delete the \"../data/\" part... so just run: df = pd.read_csv('titanic.csv')\n",
    "y = df[\"Survived\"]\n",
    "X = df[[\"Pclass\", \"Sex\", \"SibSp\", \"Parch\", \"Fare\", \"Embarked\"]]"
   ]
  },
  {
   "cell_type": "markdown",
   "id": "2869548a",
   "metadata": {},
   "source": [
    "**Exercises:**\n",
    "1. Fill the missing values in X.\n",
    "2. Standardise the variables in X.\n",
    "3. Split the data into training and testing sets.\n",
    "4. Perform ridge classification using the ```LogisticRegression(penalty='l2')``` model (import it from ```sklearn.linear_model```), tuning the parameter ```C``` by cross validation.\n",
    "5. Perform lasso classification using the ```LogisticRegression(penalty='l1')``` model, tuning the parameter ```C``` by cross validation.\n",
    "6. Perform random forest classification using the ```RandomForestClassifier()``` model (import it from ```sklearn.ensemble```), tuning whichever of the parameters you like (this might take a while to run).\n",
    "7. Perform gradient boosting classification using the ```GradientBoostingClassifier()``` model (import it from ```sklearn.ensemble```), tuning whichever of the parameters you like (this might take a while to run).\n",
    "8. What is the best accuracy score you can achieve on the test data?"
   ]
  },
  {
   "cell_type": "markdown",
   "id": "3ebe029c",
   "metadata": {},
   "source": [
    "# Congratulations\n",
    "\n",
    "You have completed the course! :)"
   ]
  },
  {
   "cell_type": "code",
   "execution_count": null,
   "id": "b12bd418",
   "metadata": {},
   "outputs": [],
   "source": []
  }
 ],
 "metadata": {
  "kernelspec": {
   "display_name": "Python 3 (ipykernel)",
   "language": "python",
   "name": "python3"
  },
  "language_info": {
   "codemirror_mode": {
    "name": "ipython",
    "version": 3
   },
   "file_extension": ".py",
   "mimetype": "text/x-python",
   "name": "python",
   "nbconvert_exporter": "python",
   "pygments_lexer": "ipython3",
   "version": "3.9.6"
  }
 },
 "nbformat": 4,
 "nbformat_minor": 5
}
